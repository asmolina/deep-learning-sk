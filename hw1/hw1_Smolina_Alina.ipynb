{
 "cells": [
  {
   "cell_type": "markdown",
   "metadata": {},
   "source": [
    "# Homework 1"
   ]
  },
  {
   "cell_type": "markdown",
   "metadata": {},
   "source": [
    "This homework should be submitted as one notebook. When completed, please rename the notebook before sending as follows: *hw1_\\<lastname\\>_\\<firstname\\>.ipynb* (example: *hw1_Bond_James.ipynb*)."
   ]
  },
  {
   "cell_type": "code",
   "execution_count": 1,
   "metadata": {},
   "outputs": [],
   "source": [
    "import os\n",
    "os.environ['KMP_DUPLICATE_LIB_OK']='True'"
   ]
  },
  {
   "cell_type": "markdown",
   "metadata": {},
   "source": [
    "# Part 1: Differentiation (2.0 pts)"
   ]
  },
  {
   "cell_type": "markdown",
   "metadata": {},
   "source": [
    "Since it easy to google every task please please please try to understand what's going on. The \"just answer\" thing will be not counted, make sure to present derivation of your solution. A good way to derive solutions for these tasks is to derive it for single elements and then generalize to the resulting matrix/vector."
   ]
  },
  {
   "cell_type": "markdown",
   "metadata": {},
   "source": [
    "Useful links: \n",
    "[1](http://www.machinelearning.ru/wiki/images/2/2a/Matrix-Gauss.pdf)\n",
    "[2](http://www.atmos.washington.edu/~dennis/MatrixCalculus.pdf)\n",
    "[3](http://cal.cs.illinois.edu/~johannes/research/matrix%20calculus.pdf)\n",
    "[4](https://www.math.uwaterloo.ca/~hwolkowi/matrixcookbook.pdf)"
   ]
  },
  {
   "cell_type": "markdown",
   "metadata": {},
   "source": [
    "## ex. 1 *[0.5 pts]*"
   ]
  },
  {
   "cell_type": "markdown",
   "metadata": {},
   "source": [
    "Scalar w.r.t. vector:\n",
    "$$  \n",
    "y = c^Tx,  \\quad x \\in \\mathbb{R}^N \n",
    "$$"
   ]
  },
  {
   "cell_type": "markdown",
   "metadata": {},
   "source": [
    "$$\n",
    "\\frac{dy}{dx} = c\n",
    "$$ \n",
    "**Proof.** Denote $y=c^{\\top} x =c_{i} x_{i} \\Rightarrow   \\frac{\\partial y}{\\partial x_{j}}=\\frac{\\partial\\left(c_{i} x_{i}\\right)}{\\partial x_{j}}=c_{i} \\delta_{i j}=c_{j} \\Rightarrow \\frac{\\partial y}{\\partial \\vec{x}}=\\vec{c}$"
   ]
  },
  {
   "cell_type": "markdown",
   "metadata": {},
   "source": [
    "## ex. 2 *[0.5 pts]*"
   ]
  },
  {
   "cell_type": "markdown",
   "metadata": {},
   "source": [
    "Vector w.r.t. vector:\n",
    "$$ y = \\sum_{j=1}^{N} cx^T \\quad c \\in \\mathbb{R}^{M} ,x \\in \\mathbb{R}^{N}, cx^T \\in \\mathbb{R}^{M \\times N} $$ "
   ]
  },
  {
   "cell_type": "markdown",
   "metadata": {},
   "source": [
    "$$\n",
    "\\frac{dy}{dx} =  \\left(\\begin{array}{cccc}| & | & & | \\\\ \\vec{c} & \\vec{c} & \\cdots & \\vec{c} \\\\ | & | & & |\\end{array}\\right)_{M \\times N}\n",
    "$$\n",
    "\n",
    "\n",
    "**Proof.** Denote $y_{i}=\\sum_{j=1}^{N}\\left[\\vec{c} \\vec{x}^{T}\\right]_{i j}=\\sum_{j=1}^{N} c_{i} x_{j} \\Rightarrow $\n",
    "\n",
    "$\\left(\\frac{\\partial \\vec{y}}{\\partial \\vec{x}}\\right)_{i q}=\n",
    "\\frac{\\partial y_{i}}{\\partial x_{q}}=\n",
    " \\frac{\\partial\\left( \\sum_{j=1}^{N} c_{i} x_{j}\\right)}{\\partial x_{q}}=\n",
    "\\sum_{j=1}^{N} \\frac{\\partial\\left(c_{i} x_{j}\\right)}{\\partial x_{q}}=\n",
    "c_{i} \\sum_{j=1}^{N} \\delta_{j q}=\n",
    "c_{i}\\left(\\delta_{1 q}+\\delta_{2 q}+\\delta_{N q}\\right)=c_{i} \\cdot 1=c_{i}$"
   ]
  },
  {
   "cell_type": "markdown",
   "metadata": {},
   "source": [
    "## ex. 3 *[0.5 pts]*"
   ]
  },
  {
   "cell_type": "markdown",
   "metadata": {},
   "source": [
    "Vector w.r.t. vector:\n",
    "$$  \n",
    "y = x x^T x , x \\in \\mathbb{R}^{N}\n",
    "$$"
   ]
  },
  {
   "cell_type": "markdown",
   "metadata": {},
   "source": [
    "$$\n",
    "\\frac{dy}{dx} =\n",
    "\\left(\\begin{array}{cccc} \n",
    "\\vec{x}^{T} \\vec{x}  & 0 & \\cdots & 0 \\\\ \n",
    "0 & \\vec{x}^{T} \\vec{x}  & \\cdots & 0 \\\\ \n",
    "\\vdots & \\vdots & \\ddots & \\vdots \\\\ \n",
    "0 & 0 & \\cdots & \\vec{x}^{T} \\vec{x} \\end{array}\\right)\n",
    "+\n",
    "\\left(\\begin{array}{cccc} \n",
    "2 x_{1} x_{1} & 2 x_{1} x_{2} & \\cdots & 2 x_{1} x_{N} \\\\ \n",
    "2 x_{2} x_{1} & 2 x_{2} x_{2} & \\cdots & 2 x_{2} x_{N} \\\\ \n",
    "\\vdots & \\vdots & \\ddots & \\vdots \\\\ \n",
    "2 x_{N} x_{1} & 2 x_{N} x_{2} & \\cdots & 2 x_{N} x_{N}\\end{array}\\right)\n",
    "$$\n",
    "\n",
    "**Proof.** Denote $y_{i}=x_{i} x_{q} x_{q} \\Rightarrow $\n",
    "\n",
    "$\\left(\\frac{\\partial \\vec{y}}{\\partial \\vec{x}}\\right)_{ij}\n",
    "=\\left(\\frac{\\partial y_{i}}{\\partial x_{j}}\\right)\n",
    "=\\frac{\\partial\\left(x_{i} x_{q} x_{q}\\right)}{\\partial x_{j}}\n",
    "=\\frac{\\partial x_{i}}{\\partial x_{j}} x_{q} x_{q}+2 x_{i} \\frac{\\partial x_{q}}{\\partial x_{j}} x_{q}\n",
    "=\\delta_{i j} x_{q} x_{q}+2 x_{i} \\delta_{j q} x_{q}\n",
    "=x_{q} x_{q} \\delta_{i j}+2 x_{i} x_{j}=$\n",
    "$=\n",
    "\\left(\\begin{array}{cccc} \n",
    "x_{q} x_{q} & 0 & \\cdots & 0 \\\\ \n",
    "0 & x_{q} x_{q} & \\cdots & 0 \\\\ \n",
    "\\vdots & \\vdots & \\ddots & \\vdots \\\\ \n",
    "0 & 0 & \\cdots & x_{q} x_{q}\\end{array}\\right)\n",
    "+\n",
    "\\left(\\begin{array}{cccc} \n",
    "2 x_{1} x_{1} & 2 x_{1} x_{2} & \\cdots & 2 x_{1} x_{N} \\\\ \n",
    "2 x_{2} x_{1} & 2 x_{2} x_{2} & \\cdots & 2 x_{2} x_{N} \\\\ \n",
    "\\vdots & \\vdots & \\ddots & \\vdots \\\\ \n",
    "2 x_{N} x_{1} & 2 x_{N} x_{2} & \\cdots & 2 x_{N} x_{N}\\end{array}\\right)$"
   ]
  },
  {
   "cell_type": "markdown",
   "metadata": {},
   "source": [
    "## ex. 4 *[0.5 pts]*"
   ]
  },
  {
   "cell_type": "markdown",
   "metadata": {},
   "source": [
    "Derivatives for the parameters of the Dense layer:\n",
    "\n",
    "***Given :***  $$Y = XW, Y \\in \\mathbb{R}^{N \\times OUT}, X \\in \\mathbb{R}^{N \\times IN}, W \\in \\mathbb{R}^{IN \\times OUT} $$ \n",
    "\n",
    "The derivative of the hypothetic loss function w.r.t. to $Y$ is known: $\\Delta Y  \\in \\mathbb{R}^{N \\times OUT}$\n",
    "\n",
    "***Task :*** Please, derive the gradients of the loss w.r.t the weight matrix $W$: $\\Delta W  \\in \\mathbb{R}^{IN \\times OUT}$. Use the chain rule. First, please, derive each element of the $\\Delta W$, then generalize to the matrix form.\n",
    " \n",
    "Useful link: http://cs231n.stanford.edu/vecDerivs.pdf\n"
   ]
  },
  {
   "cell_type": "markdown",
   "metadata": {},
   "source": [
    "**Solution:**\n",
    "Given $Y_{i j}=X_{i q} W_{q j}, \\frac{\\partial \\mathcal{L}}{\\partial Y_{i j}}=(\\Delta Y)_{i j}$. We should obtain $\\Delta W_{a b} \\equiv \\frac{\\partial \\mathcal{L}\\left(y_{i j}\\right)}{\\partial W_{a b}}$.\n",
    "\n",
    "$\\Delta W_{a b} \\equiv \\frac{\\partial \\mathcal{L}\\left(Y_{ij}\\right)}{\\partial W_{a b}}\n",
    "=\\frac{\\partial \\mathcal{L}}{\\partial Y_{i j}} \\cdot \\frac{\\partial Y_{ij}}{\\partial W_{a b}}\n",
    "=\\Delta Y_{i j} \\cdot \\frac{\\partial\\left(X_{i q} W_{q j}\\right)}{\\partial W_{a b}}\n",
    "=\\Delta Y_{i j} X_{i q} \\cdot \\frac{\\partial W_{q_{j}}}{\\partial W_{a b}}\n",
    "=\\Delta Y_{i j} X_{i q} \\delta_{q a} \\delta_{j b}\n",
    "=\\Delta Y_{i b} X_{i a}\n",
    "=X_{ai}^{T} \\Delta Y_{i b}\n",
    "=\\left(X^{T} \\Delta Y\\right)_{a b}\n",
    "\\Rightarrow \\Delta W=X^{T} \\Delta Y$"
   ]
  },
  {
   "cell_type": "markdown",
   "metadata": {},
   "source": [
    "# Part 2: Modules (6.0 pts)\n",
    "\n",
    "In this part you need to implement the modules of your neural network in NumPy."
   ]
  },
  {
   "cell_type": "code",
   "execution_count": 2,
   "metadata": {},
   "outputs": [],
   "source": [
    "import numpy as np"
   ]
  },
  {
   "cell_type": "markdown",
   "metadata": {},
   "source": [
    "**Module** is an abstract class which defines fundamental methods necessary for a training a neural network. You do not need to change anything here, just read the comments."
   ]
  },
  {
   "cell_type": "code",
   "execution_count": 3,
   "metadata": {},
   "outputs": [],
   "source": [
    "class Module(object):\n",
    "    \"\"\"\n",
    "    Basically, you can think of a module as of a something (black box) \n",
    "    which can process `input` data and produce `ouput` data.\n",
    "    This is like applying a function which is called `forward`: \n",
    "        \n",
    "        output = module.forward(input)\n",
    "    \n",
    "    The module should be able to perform a backward pass: to differentiate the `forward` function. \n",
    "    More, it should be able to differentiate it if is a part of chain (chain rule).\n",
    "    The latter implies there is a gradient from previous step of a chain rule. \n",
    "    \n",
    "        gradInput = module.backward(input, gradOutput)\n",
    "    \"\"\"\n",
    "    def __init__ (self):\n",
    "        self.output = None\n",
    "        self.gradInput = None\n",
    "        self.training = True\n",
    "    \n",
    "    def forward(self, input):\n",
    "        \"\"\"\n",
    "        Takes an input object, and computes the corresponding output of the module.\n",
    "        \"\"\"\n",
    "        return self.updateOutput(input)\n",
    "\n",
    "    def backward(self,input, gradOutput):\n",
    "        \"\"\"\n",
    "        Performs a backpropagation step through the module, with respect to the given input.\n",
    "        \n",
    "        This includes \n",
    "         - computing a gradient w.r.t. `input` (is needed for further backprop),\n",
    "         - computing a gradient w.r.t. parameters (to update parameters while optimizing).\n",
    "        \"\"\"\n",
    "        self.updateGradInput(input, gradOutput)\n",
    "        self.accGradParameters(input, gradOutput)\n",
    "        return self.gradInput\n",
    "    \n",
    "\n",
    "    def updateOutput(self, input):\n",
    "        \"\"\"\n",
    "        Computes the output using the current parameter set of the class and input.\n",
    "        This function returns the result which is stored in the `output` field.\n",
    "        \n",
    "        Make sure to both store the data in `output` field and return it. \n",
    "        \"\"\"\n",
    "        \n",
    "        # The easiest case:\n",
    "            \n",
    "        # self.output = input \n",
    "        # return self.output\n",
    "        \n",
    "        pass\n",
    "\n",
    "    def updateGradInput(self, input, gradOutput):\n",
    "        \"\"\"\n",
    "        Computing the gradient of the module with respect to its own input. \n",
    "        This is returned in `gradInput`. Also, the `gradInput` state variable is updated accordingly.\n",
    "        \n",
    "        The shape of `gradInput` is always the same as the shape of `input`.\n",
    "        \n",
    "        Make sure to both store the gradients in `gradInput` field and return it.\n",
    "        \"\"\"\n",
    "        \n",
    "        # The easiest case:\n",
    "        \n",
    "        # self.gradInput = gradOutput \n",
    "        # return self.gradInput\n",
    "        \n",
    "        pass   \n",
    "    \n",
    "    def accGradParameters(self, input, gradOutput):\n",
    "        \"\"\"\n",
    "        Computing the gradient of the module with respect to its own parameters.\n",
    "        No need to override if module has no parameters (e.g. ReLU).\n",
    "        \"\"\"\n",
    "        pass\n",
    "    \n",
    "    def zeroGradParameters(self): \n",
    "        \"\"\"\n",
    "        Zeroes `gradParams` variable if the module has params.\n",
    "        \"\"\"\n",
    "        pass\n",
    "        \n",
    "    def getParameters(self):\n",
    "        \"\"\"\n",
    "        Returns a list with its parameters. \n",
    "        If the module does not have parameters return empty list. \n",
    "        \"\"\"\n",
    "        return []\n",
    "        \n",
    "    def getGradParameters(self):\n",
    "        \"\"\"\n",
    "        Returns a list with gradients with respect to its parameters. \n",
    "        If the module does not have parameters return empty list. \n",
    "        \"\"\"\n",
    "        return []\n",
    "    \n",
    "    def train(self):\n",
    "        \"\"\"\n",
    "        Sets training mode for the module.\n",
    "        Training and testing behaviour differs for Dropout, BatchNorm.\n",
    "        \"\"\"\n",
    "        self.training = True\n",
    "    \n",
    "    def evaluate(self):\n",
    "        \"\"\"\n",
    "        Sets evaluation mode for the module.\n",
    "        Training and testing behaviour differs for Dropout, BatchNorm.\n",
    "        \"\"\"\n",
    "        self.training = False\n",
    "    \n",
    "    def __repr__(self):\n",
    "        \"\"\"\n",
    "        Pretty printing. Should be overrided in every module if you want \n",
    "        to have readable description. \n",
    "        \"\"\"\n",
    "        return \"Module\""
   ]
  },
  {
   "cell_type": "markdown",
   "metadata": {},
   "source": [
    "# Sequential container *[0.5 pts]*"
   ]
  },
  {
   "cell_type": "markdown",
   "metadata": {},
   "source": [
    "**Define** a forward and backward pass procedures."
   ]
  },
  {
   "cell_type": "code",
   "execution_count": 4,
   "metadata": {},
   "outputs": [],
   "source": [
    "class Sequential(Module):\n",
    "    \"\"\"\n",
    "         This class implements a container, which processes `input` data sequentially. \n",
    "         \n",
    "         `input` is processed by each module (layer) in self.modules consecutively.\n",
    "         The resulting array is called `output`. \n",
    "    \"\"\"\n",
    "    \n",
    "    def __init__ (self):\n",
    "        super(Sequential, self).__init__()\n",
    "        self.modules = []\n",
    "   \n",
    "    def add(self, module):\n",
    "        \"\"\"\n",
    "        Adds a module to the container.\n",
    "        \"\"\"\n",
    "        self.modules.append(module)\n",
    "\n",
    "    def updateOutput(self, input):\n",
    "        \"\"\"\n",
    "        Basic workflow of FORWARD PASS:\n",
    "        \n",
    "            y_0    = module[0].forward(input)\n",
    "            y_1    = module[1].forward(y_0)\n",
    "            ...\n",
    "            output = module[n-1].forward(y_{n-2})   \n",
    "            \n",
    "            \n",
    "        Just write a little loop. \n",
    "        \"\"\"\n",
    "        # Your code goes here. ################################################\n",
    "        self.outputs = []\n",
    "        self.outputs.append(self.modules[0].forward(input))\n",
    "        for i in range(1, len(self.modules)):\n",
    "            self.outputs.append(self.modules[i].forward(self.outputs[-1]))\n",
    "        self.output = self.outputs[-1]\n",
    "        \n",
    "        return self.output\n",
    "\n",
    "    def backward(self, input, gradOutput):\n",
    "        \"\"\"\n",
    "        Workflow of BACKWARD PASS:\n",
    "            \n",
    "            g_{n-1} = module[n-1].backward(y_{n-2}, gradOutput)\n",
    "            g_{n-2} = module[n-2].backward(y_{n-3}, g_{n-1})\n",
    "            ...\n",
    "            g_1 = module[1].backward(y_0, g_2)   \n",
    "            gradInput = module[0].backward(input, g_1)   \n",
    "             \n",
    "             \n",
    "        !!!\n",
    "                \n",
    "        To ech module you need to provide the input, module saw while forward pass, \n",
    "        it is used while computing gradients. \n",
    "        Make sure that the input for `i-th` layer the output of `module[i]` (just the same input as in forward pass) \n",
    "        and NOT `input` to this Sequential module. \n",
    "        \n",
    "        !!!\n",
    "        \n",
    "        \"\"\"\n",
    "        # Your code goes here. ################################################\n",
    "        self.gradInput = self.modules[len(self.modules) - 1].backward(self.outputs[len(self.modules) - 2], gradOutput)\n",
    "        for i in range(len(self.modules) - 2, 0, -1):\n",
    "            self.gradInput = self.modules[i].backward(self.outputs[i - 1], self.gradInput)\n",
    "        self.gradInput = self.modules[0].backward(input, self.gradInput)\n",
    "\n",
    "        return self.gradInput\n",
    "      \n",
    "\n",
    "    def zeroGradParameters(self): \n",
    "        for module in self.modules:\n",
    "            module.zeroGradParameters()\n",
    "    \n",
    "    def getParameters(self):\n",
    "        \"\"\"\n",
    "        Should gather all parameters in a list.\n",
    "        \"\"\"\n",
    "        return [x.getParameters() for x in self.modules]\n",
    "    \n",
    "    def getGradParameters(self):\n",
    "        \"\"\"\n",
    "        Should gather all gradients w.r.t parameters in a list.\n",
    "        \"\"\"\n",
    "        return [x.getGradParameters() for x in self.modules]\n",
    "    \n",
    "    def __repr__(self):\n",
    "        string = \"\".join([str(x) + '\\n' for x in self.modules])\n",
    "        return string\n",
    "    \n",
    "    def __getitem__(self,x):\n",
    "        return self.modules.__getitem__(x)\n",
    "    \n",
    "    def train(self):\n",
    "        \"\"\"\n",
    "        Propagates training parameter through all modules\n",
    "        \"\"\"\n",
    "        self.training = True\n",
    "        for module in self.modules:\n",
    "            module.train()\n",
    "    \n",
    "    def evaluate(self):\n",
    "        \"\"\"\n",
    "        Propagates training parameter through all modules\n",
    "        \"\"\"\n",
    "        self.training = False\n",
    "        for module in self.modules:\n",
    "            module.evaluate()"
   ]
  },
  {
   "cell_type": "markdown",
   "metadata": {},
   "source": [
    "# Layers"
   ]
  },
  {
   "cell_type": "markdown",
   "metadata": {},
   "source": [
    "You need to implement everything in this part and make sure the code passes all tests. Read all the comments thoughtfully to ease the pain. Please try not to change the prototypes.\n",
    "\n",
    "Do not forget, that each module should return **AND** store `output` and `gradInput`.\n",
    "\n",
    "The assumption is that `module.backward` is always executed after `module.forward`,\n",
    "so `output` is stored, this would be useful for `SoftMax`. "
   ]
  },
  {
   "cell_type": "markdown",
   "metadata": {},
   "source": [
    "### Tech note\n",
    "\n",
    "* It is **strongly suggested to use vectorized operations on numpy arrays!** Avoid `for` loops whenever possible. It's very inefficient and might make your networks in Parts 3 and 4 training forever.\n",
    "\n",
    "* Prefer using `np.multiply`, `np.add`, `np.divide`, `np.subtract` instead of `*`,`+`,`/`,`-` for better memory handling. (e.g., `np.add(b,c,out = a)` instead of `a = b + c`)"
   ]
  },
  {
   "cell_type": "markdown",
   "metadata": {},
   "source": [
    "## 1. Linear transform layer  *[0.5 pts]*\n",
    "Also known as dense layer, fully-connected layer, FC-layer, InnerProductLayer (in caffe), affine transform\n",
    "- input:   **`batch_size x n_feats1`**\n",
    "- output: **`batch_size x n_feats2`**"
   ]
  },
  {
   "cell_type": "code",
   "execution_count": 5,
   "metadata": {},
   "outputs": [],
   "source": [
    "class Linear(Module):\n",
    "    \"\"\"\n",
    "    A module which applies a linear transformation \n",
    "    A common name is fully-connected layer, InnerProductLayer in caffe. \n",
    "    \n",
    "    The module should work with 2D input of shape (n_samples, n_feature).\n",
    "    \"\"\"\n",
    "    def __init__(self, n_in, n_out):\n",
    "        super(Linear, self).__init__()\n",
    "       \n",
    "        # This is a nice initialization\n",
    "        stdv = 1./np.sqrt(n_in)\n",
    "        self.W = np.random.uniform(-stdv, stdv, size = (n_out, n_in))\n",
    "        self.b = np.random.uniform(-stdv, stdv, size = n_out)\n",
    "        \n",
    "        self.gradW = np.zeros_like(self.W)\n",
    "        self.gradb = np.zeros_like(self.b)\n",
    "        \n",
    "    def updateOutput(self, input):\n",
    "        # self.output = ... Y = X @ W.T + b\n",
    "        self.output = input @ self.W.T + self.b\n",
    "\n",
    "        return self.output\n",
    "    \n",
    "    def updateGradInput(self, input, gradOutput):\n",
    "        # self.gradInput = ... gradOutput @ W\n",
    "        self.gradInput = gradOutput @ self.W  \n",
    "    \n",
    "        return self.gradInput\n",
    "    \n",
    "    def accGradParameters(self, input, gradOutput):\n",
    "        # self.gradW = ... gradOutput.T @ X\n",
    "        # self.gradb = ...\n",
    "        self.gradW = gradOutput.T @ input \n",
    "        self.gradb = gradOutput.sum(axis=0)\n",
    "\n",
    "    \n",
    "    def zeroGradParameters(self):\n",
    "        self.gradW.fill(0)\n",
    "        self.gradb.fill(0)\n",
    "        \n",
    "    def getParameters(self):\n",
    "        return [self.W, self.b]\n",
    "    \n",
    "    def getGradParameters(self):\n",
    "        return [self.gradW, self.gradb]\n",
    "    \n",
    "    def __repr__(self):\n",
    "        s = self.W.shape\n",
    "        q = 'Linear %d -> %d' %(s[1],s[0])\n",
    "        return q"
   ]
  },
  {
   "cell_type": "markdown",
   "metadata": {},
   "source": [
    "## 2. SoftMax *[0.5 pts]*\n",
    "- input:   **`batch_size x n_feats`**\n",
    "- output: **`batch_size x n_feats`**\n",
    "\n",
    "$\\text{softmax}(x)_i = \\frac{\\exp x_i} {\\sum_j \\exp x_j}$\n",
    "\n",
    "Recall that $\\text{softmax}(x) == \\text{softmax}(x - \\text{const})$. It makes possible to avoid computing exp() from large argument."
   ]
  },
  {
   "cell_type": "code",
   "execution_count": 6,
   "metadata": {},
   "outputs": [],
   "source": [
    "class SoftMax(Module):\n",
    "    def __init__(self):\n",
    "         super(SoftMax, self).__init__()\n",
    "    \n",
    "    def updateOutput(self, input):\n",
    "        # start with normalization for numerical stability\n",
    "        # self.output = ... np.exp(input) / np.exp(input).sum(axis=1)\n",
    "        self.output = np.exp(input) / np.exp(input).sum(axis=1, keepdims=True)\n",
    "        \n",
    "        return self.output\n",
    "    \n",
    "    def updateGradInput(self, input, gradOutput):\n",
    "        # self.gradInput = ... self.output * (gradOutput - np.sum(gradOutput * self.output, axis=1))\n",
    "        self.gradInput = np.multiply(self.output, \n",
    "                                     np.subtract(gradOutput, \n",
    "                                                 np.sum(np.multiply(gradOutput, self.output),\n",
    "                                                        axis=1, keepdims=True)))\n",
    "        \n",
    "        return self.gradInput\n",
    "    \n",
    "    def __repr__(self):\n",
    "        return \"SoftMax\""
   ]
  },
  {
   "cell_type": "markdown",
   "metadata": {},
   "source": [
    "## 3. LogSoftMax *[0.5 pts]*\n",
    "- input:   **`batch_size x n_feats`**\n",
    "- output: **`batch_size x n_feats`**\n",
    "\n",
    "$\\text{logsoftmax}(x)_i = \\log\\text{softmax}(x)_i = x_i - \\log {\\sum_j \\exp x_j}$\n",
    "\n",
    "The main goal of this layer is to be used in computation of log-likelihood loss."
   ]
  },
  {
   "cell_type": "code",
   "execution_count": 7,
   "metadata": {},
   "outputs": [],
   "source": [
    "class LogSoftMax(Module):\n",
    "    def __init__(self):\n",
    "         super(LogSoftMax, self).__init__()\n",
    "    \n",
    "    def updateOutput(self, input):\n",
    "        # start with normalization for numerical stability\n",
    "        # self.output = ... input - np.log(np.sum(np.exp(input), axis=1, keepdims=True))\n",
    "        self.output = input - np.log(np.sum(np.exp(input),\n",
    "                                            axis=1, keepdims=True))\n",
    "        \n",
    "        return self.output\n",
    "    \n",
    "    def updateGradInput(self, input, gradOutput):\n",
    "        # self.gradInput = ... gradOutput - softmax * np.sum(gradOutput, axis=1)\n",
    "        softmax = np.exp(input) / np.exp(input).sum(axis=1, keepdims=True)\n",
    "        self.gradInput = np.subtract(gradOutput, \n",
    "                                     softmax * np.sum(gradOutput, axis=1, keepdims=True))\n",
    "                                     \n",
    "        return self.gradInput\n",
    "    \n",
    "    def __repr__(self):\n",
    "        return \"LogSoftMax\""
   ]
  },
  {
   "cell_type": "markdown",
   "metadata": {},
   "source": [
    "## 4. Batch normalization *[0.5 pts]*\n",
    "One of the most significant recent ideas that impacted NNs a lot is [**Batch normalization**](http://arxiv.org/abs/1502.03167). The idea is simple, yet effective: the features should be whitened ($mean = 0$, $std = 1$) all the way through NN. This improves the convergence for deep models letting it train them for days but not weeks. **You are** to implement the first part of the layer: features normalization. The second part (`ChannelwiseScaling` layer) is implemented below.\n",
    "\n",
    "- input:   **`batch_size x n_feats`**\n",
    "- output: **`batch_size x n_feats`**\n",
    "\n",
    "The layer should work as follows. While training (`self.training == True`) it transforms input as $$y = \\frac{x - \\mu}  {\\sqrt{\\sigma + \\epsilon}}$$\n",
    "where $\\mu$ and $\\sigma$ - mean and variance of feature values in **batch** and $\\epsilon$ is just a small number for numericall stability. Also during training, layer should maintain exponential moving average values for mean and variance: \n",
    "```\n",
    "    self.moving_mean = self.moving_mean * alpha + batch_mean * (1 - alpha)\n",
    "    self.moving_variance = self.moving_variance * alpha + batch_variance * (1 - alpha)\n",
    "```\n",
    "During testing (`self.training == False`) the layer normalizes input using moving_mean and moving_variance. \n",
    "\n",
    "Note that decomposition of batch normalization on normalization itself and channelwise scaling here is just a common **implementation** choice. In general \"batch normalization\" always assumes normalization + scaling.\n",
    "\n",
    "**Hint:** to implement the gradients, you can derive yourself or refer to the original paper; [this guide](https://kevinzakka.github.io/2016/09/14/batch_normalization/) might also be useful."
   ]
  },
  {
   "cell_type": "code",
   "execution_count": 8,
   "metadata": {},
   "outputs": [],
   "source": [
    "class BatchNormalization(Module):\n",
    "    EPS = 1e-3\n",
    "    def __init__(self, alpha = 0.):\n",
    "        super(BatchNormalization, self).__init__()\n",
    "        self.alpha = alpha\n",
    "        self.moving_mean = None \n",
    "        self.moving_variance = None\n",
    "        \n",
    "    def updateOutput(self, input):         \n",
    "        if self.training:\n",
    "            batch_mean = np.mean(input, axis=0, keepdims=True)\n",
    "            centered_input = input - batch_mean\n",
    "            batch_variance = np.var(input, axis=0, keepdims=True)\n",
    "            \n",
    "            if self.moving_mean is None:\n",
    "                self.moving_mean = batch_mean\n",
    "            else:\n",
    "                self.moving_mean = self.moving_mean * self.alpha + batch_mean * (1 - self.alpha)\n",
    "            \n",
    "            if self.moving_variance is None:\n",
    "                self.moving_variance = batch_variance\n",
    "            else:\n",
    "                self.moving_variance = self.moving_variance * self.alpha + batch_variance * (1 - self.alpha)\n",
    "            \n",
    "            self.output = centered_input / np.sqrt(batch_variance + self.EPS)\n",
    "        else:\n",
    "            if self.moving_mean is None:\n",
    "                self.output = input\n",
    "            else:\n",
    "                self.output = (input - self.moving_mean) / np.sqrt(self.moving_variance + self.EPS)\n",
    "            \n",
    "        return self.output\n",
    "    \n",
    "    def updateGradInput(self, input, gradOutput):\n",
    "        # self.gradInput = ...\n",
    "        mean = np.mean(input, axis=0, keepdims=True)\n",
    "        variance = np.var(input, axis=0, keepdims=True) + self.EPS\n",
    "   \n",
    "        self.gradInput = (gradOutput - np.mean(gradOutput, axis=0, keepdims=True)) / np.sqrt(variance) \\\n",
    "                       - (input - mean) * np.mean(np.multiply(gradOutput, input - mean), axis=0, keepdims=True) / np.power(variance, 3./2.)\n",
    "        \n",
    "        \n",
    "        return self.gradInput\n",
    "    \n",
    "    def __repr__(self):\n",
    "        return \"BatchNormalization\""
   ]
  },
  {
   "cell_type": "code",
   "execution_count": 9,
   "metadata": {},
   "outputs": [],
   "source": [
    "class ChannelwiseScaling(Module):\n",
    "    \"\"\"\n",
    "       Implements linear transform of input y = \\gamma * x + \\beta\n",
    "       where \\gamma, \\beta - learnable vectors of length x.shape[-1]\n",
    "    \"\"\"\n",
    "    def __init__(self, n_out):\n",
    "        super(ChannelwiseScaling, self).__init__()\n",
    "\n",
    "        stdv = 1./np.sqrt(n_out)\n",
    "        self.gamma = np.random.uniform(-stdv, stdv, size=n_out)\n",
    "        self.beta = np.random.uniform(-stdv, stdv, size=n_out)\n",
    "        \n",
    "        self.gradGamma = np.zeros_like(self.gamma)\n",
    "        self.gradBeta = np.zeros_like(self.beta)\n",
    "\n",
    "    def updateOutput(self, input):\n",
    "        self.output = input * self.gamma + self.beta\n",
    "        return self.output\n",
    "        \n",
    "    def updateGradInput(self, input, gradOutput):\n",
    "        self.gradInput = gradOutput * self.gamma\n",
    "        return self.gradInput\n",
    "    \n",
    "    def accGradParameters(self, input, gradOutput):\n",
    "        self.gradBeta = np.sum(gradOutput, axis=0)\n",
    "        self.gradGamma = np.sum(gradOutput*input, axis=0)\n",
    "    \n",
    "    def zeroGradParameters(self):\n",
    "        self.gradGamma.fill(0)\n",
    "        self.gradBeta.fill(0)\n",
    "        \n",
    "    def getParameters(self):\n",
    "        return [self.gamma, self.beta]\n",
    "    \n",
    "    def getGradParameters(self):\n",
    "        return [self.gradGamma, self.gradBeta]\n",
    "    \n",
    "    def __repr__(self):\n",
    "        return \"ChannelwiseScaling\""
   ]
  },
  {
   "cell_type": "markdown",
   "metadata": {},
   "source": [
    "Practical notes. If BatchNormalization is placed after a linear transformation layer (including dense layer, convolutions, channelwise scaling) that implements function like `y = weight * x + bias`, than bias adding become useless and could be omitted since its effect will be discarded while batch mean subtraction. If BatchNormalization (followed by `ChannelwiseScaling`) is placed before a layer that propagates scale (including ReLU, LeakyReLU) followed by any linear transformation layer than parameter `gamma` in `ChannelwiseScaling` could be freezed since it could be absorbed into the linear transformation layer."
   ]
  },
  {
   "cell_type": "markdown",
   "metadata": {},
   "source": [
    "## 5. Dropout *[0.5 pts]*\n",
    "Implement [**dropout**](https://www.cs.toronto.edu/~hinton/absps/JMLRdropout.pdf). The idea and implementation is really simple: just multiply the input by $Bernoulli(p)$ mask. Here $p$ is probability of an element to be zeroed.\n",
    "\n",
    "This has proven to be an effective technique for regularization and preventing the co-adaptation of neurons.\n",
    "\n",
    "While training (`self.training == True`) it should sample a mask on each iteration (for every batch), zero out elements and multiply elements by $1 / (1 - p)$. The latter is needed for keeping mean values of features close to mean values which will be in test mode. When testing this module should implement identity transform i.e. `self.output = input`.\n",
    "\n",
    "- input:   **`batch_size x n_feats`**\n",
    "- output: **`batch_size x n_feats`**"
   ]
  },
  {
   "cell_type": "code",
   "execution_count": 10,
   "metadata": {},
   "outputs": [],
   "source": [
    "class Dropout(Module):\n",
    "    def __init__(self, p=0.5):\n",
    "        super(Dropout, self).__init__()\n",
    "        \n",
    "        self.p = p\n",
    "        self.mask = None\n",
    "        \n",
    "    def updateOutput(self, input):\n",
    "        if self.training:\n",
    "            # self.output = ...\n",
    "            self.mask = np.random.binomial(1, 1 - self.p, size=(input.shape[0], input.shape[1]))\n",
    "            self.output = np.multiply(input, self.mask) / (1 - self.p)\n",
    "\n",
    "        else:\n",
    "            # self.output = ...\n",
    "            self.output = input\n",
    "            \n",
    "        return self.output\n",
    "    \n",
    "    def updateGradInput(self, input, gradOutput):\n",
    "        # self.gradInput = ...\n",
    "        self.gradInput = np.multiply(gradOutput, self.mask) / (1 - self.p)\n",
    "        \n",
    "        return self.gradInput \n",
    "        \n",
    "    def __repr__(self):\n",
    "        return \"Dropout\""
   ]
  },
  {
   "cell_type": "markdown",
   "metadata": {},
   "source": [
    "# Activation functions"
   ]
  },
  {
   "cell_type": "markdown",
   "metadata": {},
   "source": [
    "Here's the complete example for the **Rectified Linear Unit** non-linearity (aka **ReLU**): "
   ]
  },
  {
   "cell_type": "code",
   "execution_count": 11,
   "metadata": {},
   "outputs": [],
   "source": [
    "class ReLU(Module):\n",
    "    def __init__(self):\n",
    "         super(ReLU, self).__init__()\n",
    "    \n",
    "    def updateOutput(self, input):\n",
    "        self.output = np.maximum(input, 0)\n",
    "        return self.output\n",
    "    \n",
    "    def updateGradInput(self, input, gradOutput):\n",
    "        self.gradInput = np.multiply(gradOutput, input > 0)\n",
    "        return self.gradInput\n",
    "    \n",
    "    def __repr__(self):\n",
    "        return \"ReLU\""
   ]
  },
  {
   "cell_type": "markdown",
   "metadata": {},
   "source": [
    "## 6. Leaky ReLU *[0.5 pts]*\n",
    "Implement [**Leaky Rectified Linear Unit**](http://en.wikipedia.org/wiki%2FRectifier_%28neural_networks%29%23Leaky_ReLUs). Expriment with slope. "
   ]
  },
  {
   "cell_type": "code",
   "execution_count": 12,
   "metadata": {},
   "outputs": [],
   "source": [
    "class LeakyReLU(Module):\n",
    "    def __init__(self, slope = 0.03):\n",
    "        super(LeakyReLU, self).__init__()\n",
    "            \n",
    "        self.slope = slope\n",
    "        \n",
    "    def updateOutput(self, input):\n",
    "        # self.output = ...\n",
    "        self.output = input * (input > 0) + self.slope * input * (input <= 0)\n",
    "        \n",
    "        return  self.output\n",
    "    \n",
    "    def updateGradInput(self, input, gradOutput):\n",
    "        # self.gradInput = ...\n",
    "        self.gradInput = np.multiply(gradOutput, 1 * (input >= 0) + self.slope * (input < 0))\n",
    "        \n",
    "        return self.gradInput\n",
    "    \n",
    "    def __repr__(self):\n",
    "        return \"LeakyReLU\""
   ]
  },
  {
   "cell_type": "markdown",
   "metadata": {},
   "source": [
    "## 7. ELU *[0.5 pts]*\n",
    "Implement [**Exponential Linear Units**](http://arxiv.org/abs/1511.07289) activations."
   ]
  },
  {
   "cell_type": "code",
   "execution_count": 13,
   "metadata": {},
   "outputs": [],
   "source": [
    "class ELU(Module):\n",
    "    def __init__(self, alpha = 1.0):\n",
    "        super(ELU, self).__init__()\n",
    "        \n",
    "        self.alpha = alpha\n",
    "        \n",
    "    def updateOutput(self, input):\n",
    "        # self.output = ...\n",
    "        self.output = input * (input > 0) + \\\n",
    "                      self.alpha * (np.subtract(np.exp(input), 1)) * (input <= 0)\n",
    "        \n",
    "        return  self.output\n",
    "    \n",
    "    def updateGradInput(self, input, gradOutput):\n",
    "        # self.gradInput = ...\n",
    "        self.gradInput = np.multiply(gradOutput,\n",
    "                                     1 * (input > 0) + self.alpha * np.exp(input) * (input <= 0))\n",
    "            \n",
    "        return self.gradInput\n",
    "    \n",
    "    def __repr__(self):\n",
    "        return \"ELU\""
   ]
  },
  {
   "cell_type": "markdown",
   "metadata": {},
   "source": [
    "## 8. SoftPlus *[0.5 pts]*\n",
    "Implement [**SoftPlus**](https://en.wikipedia.org/wiki%2FRectifier_%28neural_networks%29) activations. Look, how they look a lot like ReLU."
   ]
  },
  {
   "cell_type": "code",
   "execution_count": 14,
   "metadata": {},
   "outputs": [],
   "source": [
    "import scipy.special\n",
    "\n",
    "class SoftPlus(Module):\n",
    "    def __init__(self):\n",
    "        super(SoftPlus, self).__init__()\n",
    "    \n",
    "    def updateOutput(self, input):\n",
    "        # self.output = ...\n",
    "        self.output = np.log(1 + np.exp(input))\n",
    "        \n",
    "        return self.output\n",
    "    \n",
    "    def updateGradInput(self, input, gradOutput):\n",
    "        # self.gradInput = ...\n",
    "        self.gradInput = np.multiply(gradOutput, np.divide(1, \n",
    "                                                           np.add(1, np.exp(-input))))\n",
    "        \n",
    "        return self.gradInput\n",
    "    \n",
    "    def __repr__(self):\n",
    "        return \"SoftPlus\""
   ]
  },
  {
   "cell_type": "markdown",
   "metadata": {},
   "source": [
    "# Criterions"
   ]
  },
  {
   "cell_type": "markdown",
   "metadata": {},
   "source": [
    "Criterions are used to score the models answers. "
   ]
  },
  {
   "cell_type": "code",
   "execution_count": 15,
   "metadata": {},
   "outputs": [],
   "source": [
    "class Criterion(object):\n",
    "    def __init__ (self):\n",
    "        self.output = None\n",
    "        self.gradInput = None\n",
    "        \n",
    "    def forward(self, input, target):\n",
    "        \"\"\"\n",
    "            Given an input and a target, compute the loss function \n",
    "            associated to the criterion and return the result.\n",
    "            \n",
    "            For consistency this function should not be overrided,\n",
    "            all the code goes in `updateOutput`.\n",
    "        \"\"\"\n",
    "        return self.updateOutput(input, target)\n",
    "\n",
    "    def backward(self, input, target):\n",
    "        \"\"\"\n",
    "            Given an input and a target, compute the gradients of the loss function\n",
    "            associated to the criterion and return the result. \n",
    "\n",
    "            For consistency this function should not be overrided,\n",
    "            all the code goes in `updateGradInput`.\n",
    "        \"\"\"\n",
    "        return self.updateGradInput(input, target)\n",
    "    \n",
    "    def updateOutput(self, input, target):\n",
    "        \"\"\"\n",
    "        Function to override.\n",
    "        \"\"\"\n",
    "        return self.output\n",
    "\n",
    "    def updateGradInput(self, input, target):\n",
    "        \"\"\"\n",
    "        Function to override.\n",
    "        \"\"\"\n",
    "        return self.gradInput   \n",
    "\n",
    "    def __repr__(self):\n",
    "        \"\"\"\n",
    "        Pretty printing. Should be overrided in every module if you want \n",
    "        to have readable description. \n",
    "        \"\"\"\n",
    "        return \"Criterion\""
   ]
  },
  {
   "cell_type": "markdown",
   "metadata": {},
   "source": [
    "The **MSECriterion**, which is basic L2 norm usually used for regression, is implemented here for you.\n",
    "- input:   **`batch_size x n_feats`**\n",
    "- target: **`batch_size x n_feats`**\n",
    "- output: **scalar**"
   ]
  },
  {
   "cell_type": "code",
   "execution_count": 16,
   "metadata": {},
   "outputs": [],
   "source": [
    "class MSECriterion(Criterion):\n",
    "    def __init__(self):\n",
    "        super(MSECriterion, self).__init__()\n",
    "        \n",
    "    def updateOutput(self, input, target):   \n",
    "        self.output = np.sum(np.power(input - target,2)) / input.shape[0]\n",
    "        return self.output \n",
    " \n",
    "    def updateGradInput(self, input, target):\n",
    "        self.gradInput  = (input - target) * 2 / input.shape[0]\n",
    "        return self.gradInput\n",
    "\n",
    "    def __repr__(self):\n",
    "        return \"MSECriterion\""
   ]
  },
  {
   "cell_type": "markdown",
   "metadata": {},
   "source": [
    "## 9. Negative LogLikelihood criterion (numerically unstable) *[0.5 pts]*\n",
    "You task is to implement the **ClassNLLCriterion**. It should implement [multiclass log loss](http://scikit-learn.org/stable/modules/model_evaluation.html#log-loss). Nevertheless there is a sum over `y` (target) in that formula, \n",
    "remember that targets are one-hot encoded. This fact simplifies the computations a lot. Note, that criterions are the only places, where you divide by batch size. Also there is a small hack with adding small number to probabilities to avoid computing log(0).\n",
    "- input:   **`batch_size x n_feats`** - probabilities\n",
    "- target: **`batch_size x n_feats`** - one-hot representation of ground truth\n",
    "- output: **scalar**\n",
    "\n"
   ]
  },
  {
   "cell_type": "code",
   "execution_count": 17,
   "metadata": {},
   "outputs": [],
   "source": [
    "class ClassNLLCriterionUnstable(Criterion):\n",
    "    EPS = 1e-15\n",
    "    def __init__(self):\n",
    "        a = super(ClassNLLCriterionUnstable, self)\n",
    "        super(ClassNLLCriterionUnstable, self).__init__()\n",
    "        \n",
    "    def updateOutput(self, input, target): \n",
    "        # Use this trick to avoid numerical errors\n",
    "        input_clamp = np.clip(input, self.EPS, 1 - self.EPS)\n",
    "        \n",
    "        # self.output = ...\n",
    "        self.output = - np.sum(np.multiply(target, np.log(input_clamp))) / input.shape[0]\n",
    "        return self.output\n",
    "\n",
    "    def updateGradInput(self, input, target):\n",
    "        # Use this trick to avoid numerical errors\n",
    "        input_clamp = np.clip(input, self.EPS, 1 - self.EPS)\n",
    "                \n",
    "        # self.gradInput = ...\n",
    "        self.gradInput = - np.divide(target, input_clamp) / input.shape[0]\n",
    "        return self.gradInput\n",
    "    \n",
    "    def __repr__(self):\n",
    "        return \"ClassNLLCriterionUnstable\""
   ]
  },
  {
   "cell_type": "markdown",
   "metadata": {},
   "source": [
    "## 10. Negative LogLikelihood criterion (numerically stable) *[0.5 pts]*\n",
    "- input:   **`batch_size x n_feats`** - log probabilities\n",
    "- target: **`batch_size x n_feats`** - one-hot representation of ground truth\n",
    "- output: **scalar**\n",
    "\n",
    "Task is similar to the previous one, but now the criterion input is the output of log-softmax layer. This decomposition allows us to avoid problems with computation of forward and backward of log()."
   ]
  },
  {
   "cell_type": "code",
   "execution_count": 18,
   "metadata": {},
   "outputs": [],
   "source": [
    "class ClassNLLCriterion(Criterion):\n",
    "    def __init__(self):\n",
    "        a = super(ClassNLLCriterion, self)\n",
    "        super(ClassNLLCriterion, self).__init__()\n",
    "        \n",
    "    def updateOutput(self, input, target): \n",
    "        # self.output = ...\n",
    "        self.output = - np.sum(np.multiply(target, input)) / input.shape[0]\n",
    "        return self.output\n",
    "\n",
    "    def updateGradInput(self, input, target):\n",
    "        # self.gradInput = ...\n",
    "        self.gradInput = - target / input.shape[0]\n",
    "        return self.gradInput\n",
    "    \n",
    "    def __repr__(self):\n",
    "        return \"ClassNLLCriterion\""
   ]
  },
  {
   "cell_type": "markdown",
   "metadata": {},
   "source": [
    "# Optimizers"
   ]
  },
  {
   "cell_type": "markdown",
   "metadata": {},
   "source": [
    "### SGD optimizer with momentum\n",
    "- `variables` - list of lists of variables (one list per layer)\n",
    "- `gradients` - list of lists of current gradients (same structure as for `variables`, one array for each var)\n",
    "- `config` - dict with optimization parameters (`learning_rate` and `momentum`)\n",
    "- `state` - dict with optimizator state (used to save accumulated gradients)"
   ]
  },
  {
   "cell_type": "code",
   "execution_count": 19,
   "metadata": {},
   "outputs": [],
   "source": [
    "def sgd_momentum(variables, gradients, config, state):  \n",
    "    # 'variables' and 'gradients' have complex structure, accumulated_grads will be stored in a simpler one\n",
    "    state.setdefault('accumulated_grads', {})\n",
    "    \n",
    "    var_index = 0 \n",
    "    for current_layer_vars, current_layer_grads in zip(variables, gradients): \n",
    "        for current_var, current_grad in zip(current_layer_vars, current_layer_grads):\n",
    "            \n",
    "            old_grad = state['accumulated_grads'].setdefault(var_index, np.zeros_like(current_grad))\n",
    "            \n",
    "            np.add(config['momentum'] * old_grad, config['learning_rate'] * current_grad, out=old_grad)\n",
    "            \n",
    "            current_var -= old_grad\n",
    "            var_index += 1     "
   ]
  },
  {
   "cell_type": "markdown",
   "metadata": {},
   "source": [
    "## 12. [Adam](https://arxiv.org/pdf/1412.6980.pdf) optimizer *[0.5 pts]*\n",
    "- `variables` - list of lists of variables (one list per layer)\n",
    "- `gradients` - list of lists of current gradients (same structure as for `variables`, one array for each var)\n",
    "- `config` - dict with optimization parameters (`learning_rate`, `beta1`, `beta2`, `epsilon`)\n",
    "- `state` - dict with optimizator state (used to save 1st and 2nd moment for vars)\n",
    "\n",
    "Formulas for optimizer:\n",
    "\n",
    "Current step learning rate: $$\\text{lr}_t = \\text{learning_rate} * \\frac{\\sqrt{1-\\beta_2^t}} {1-\\beta_1^t}$$\n",
    "First moment of var: $$\\mu_t = \\beta_1 * \\mu_{t-1} + (1 - \\beta_1)*g$$ \n",
    "Second moment of var: $$v_t = \\beta_2 * v_{t-1} + (1 - \\beta_2)*g*g$$\n",
    "New values of var: $$\\text{variable} = \\text{variable} - \\text{lr}_t * \\frac{m_t}{\\sqrt{v_t} + \\epsilon}$$"
   ]
  },
  {
   "cell_type": "code",
   "execution_count": 20,
   "metadata": {},
   "outputs": [],
   "source": [
    "def adam_optimizer(variables, gradients, config, state):  \n",
    "    # 'variables' and 'gradients' have complex structure, accumulated_grads will be stored in a simpler one\n",
    "    state.setdefault('m', {})  # first moment vars\n",
    "    state.setdefault('v', {})  # second moment vars\n",
    "    state.setdefault('t', 0)   # timestamp\n",
    "    state['t'] += 1\n",
    "    for k in ['learning_rate', 'beta1', 'beta2', 'epsilon']:\n",
    "        assert k in config, config.keys()\n",
    "    \n",
    "    var_index = 0 \n",
    "    lr_t = config['learning_rate'] * np.sqrt(1 - config['beta2']**state['t']) / (1 - config['beta1']**state['t'])\n",
    "    for current_layer_vars, current_layer_grads in zip(variables, gradients): \n",
    "        for current_var, current_grad in zip(current_layer_vars, current_layer_grads):\n",
    "            var_first_moment = state['m'].setdefault(var_index, np.zeros_like(current_grad))\n",
    "            var_second_moment = state['v'].setdefault(var_index, np.zeros_like(current_grad))\n",
    "            \n",
    "            # <YOUR CODE> #######################################\n",
    "            # update `current_var_first_moment`, `var_second_moment` and `current_var` values\n",
    "            np.add(config['beta1'] * var_first_moment, (1 - config['beta1']) * current_grad, out=var_first_moment) \n",
    "            np.add(config['beta2'] * var_second_moment, (1 - config['beta2']) * np.power(current_grad, 2), out=var_second_moment)\n",
    "            \n",
    "            current_var -= lr_t * state['m'][var_index] / (np.sqrt(state['v'][var_index]) + config['epsilon'])\n",
    "            \n",
    "            # #####################################\n",
    "            \n",
    "            # small checks that you've updated the state; use np.add for rewriting np.arrays values\n",
    "            assert var_first_moment is state['m'].get(var_index)\n",
    "            assert var_second_moment is state['v'].get(var_index)\n",
    "            var_index += 1\n"
   ]
  },
  {
   "cell_type": "markdown",
   "metadata": {},
   "source": [
    "## Testing the modules\n",
    "\n",
    "Please run the following code provided for you to check the correctness of the implementations. It is strongly advised to run this code frequently while completing the homework.\n",
    "\n",
    "You don't need to modify the cells in this section."
   ]
  },
  {
   "cell_type": "code",
   "execution_count": 21,
   "metadata": {},
   "outputs": [],
   "source": [
    "from test_modules import make_tester\n",
    "import unittest"
   ]
  },
  {
   "cell_type": "code",
   "execution_count": 22,
   "metadata": {},
   "outputs": [],
   "source": [
    "TestLayers = make_tester({\n",
    "    'Sequential': Sequential,\n",
    "    'Linear': Linear,\n",
    "    'SoftMax': SoftMax,\n",
    "    'LogSoftMax': LogSoftMax,\n",
    "    'BatchNormalization': BatchNormalization,\n",
    "    'ChannelwiseScaling': ChannelwiseScaling,\n",
    "    'Dropout': Dropout,\n",
    "    'ReLU': ReLU,\n",
    "    'LeakyReLU': LeakyReLU,\n",
    "    'ELU': ELU,\n",
    "    'SoftPlus': SoftPlus,\n",
    "    'ClassNLLCriterion': ClassNLLCriterion,\n",
    "    'ClassNLLCriterionUnstable': ClassNLLCriterionUnstable,\n",
    "    'adam_optimizer': adam_optimizer,\n",
    "})"
   ]
  },
  {
   "cell_type": "code",
   "execution_count": 23,
   "metadata": {},
   "outputs": [],
   "source": [
    "suite = unittest.TestLoader().loadTestsFromTestCase(TestLayers)"
   ]
  },
  {
   "cell_type": "code",
   "execution_count": 24,
   "metadata": {},
   "outputs": [
    {
     "name": "stderr",
     "output_type": "stream",
     "text": [
      "test_BatchNormalization (test_modules.make_tester.<locals>._tester) ... ok\n",
      "test_ClassNLLCriterion (test_modules.make_tester.<locals>._tester) ... ok\n",
      "test_ClassNLLCriterionUnstable (test_modules.make_tester.<locals>._tester) ... ok\n",
      "test_Dropout (test_modules.make_tester.<locals>._tester) ... ok\n",
      "test_ELU (test_modules.make_tester.<locals>._tester) ... ok\n",
      "test_LeakyReLU (test_modules.make_tester.<locals>._tester) ... ok\n",
      "test_Linear (test_modules.make_tester.<locals>._tester) ... ok\n",
      "test_LogSoftMax (test_modules.make_tester.<locals>._tester) ... ok\n",
      "test_Sequential_BatchNorm_ChannelwiseScaling (test_modules.make_tester.<locals>._tester) ... ok\n",
      "test_Sequential_Linear_LeakyReLU (test_modules.make_tester.<locals>._tester) ... ok\n",
      "test_SoftMax (test_modules.make_tester.<locals>._tester) ... ok\n",
      "test_SoftPlus (test_modules.make_tester.<locals>._tester) ... ok\n",
      "test_adam_optimizer (test_modules.make_tester.<locals>._tester) ... ok\n",
      "\n",
      "----------------------------------------------------------------------\n",
      "Ran 13 tests in 1.306s\n",
      "\n",
      "OK\n"
     ]
    },
    {
     "data": {
      "text/plain": [
       "<unittest.runner.TextTestResult run=13 errors=0 failures=0>"
      ]
     },
     "execution_count": 24,
     "metadata": {},
     "output_type": "execute_result"
    }
   ],
   "source": [
    "unittest.TextTestRunner(verbosity=2).run(suite)"
   ]
  },
  {
   "cell_type": "markdown",
   "metadata": {},
   "source": [
    "# Part 3: Training your first network (3.0 pts)"
   ]
  },
  {
   "cell_type": "code",
   "execution_count": 25,
   "metadata": {},
   "outputs": [],
   "source": [
    "%matplotlib inline\n",
    "from time import time, sleep\n",
    "import numpy as np\n",
    "import matplotlib.pyplot as plt\n",
    "from IPython import display"
   ]
  },
  {
   "cell_type": "markdown",
   "metadata": {},
   "source": [
    "# Toy example\n",
    "\n",
    "Use this example to debug your code, start with logistic regression and then test other layers. You do not need to change anything here. This code is provided for you to test the layers. Also it is easy to use this code in MNIST task."
   ]
  },
  {
   "cell_type": "code",
   "execution_count": 26,
   "metadata": {},
   "outputs": [
    {
     "data": {
      "image/png": "[encoded data removed]",
      "text/plain": [
       "<Figure size 432x288 with 1 Axes>"
      ]
     },
     "metadata": {
      "needs_background": "light"
     },
     "output_type": "display_data"
    }
   ],
   "source": [
    "# Generate some data\n",
    "N = 500\n",
    "\n",
    "X1 = np.random.randn(N,2) + np.array([2,2])\n",
    "X2 = np.random.randn(N,2) + np.array([-2,-2])\n",
    "\n",
    "Y = np.concatenate([np.ones(N),np.zeros(N)])[:,None]\n",
    "Y = np.hstack([Y, 1-Y])\n",
    "\n",
    "X = np.vstack([X1,X2])\n",
    "plt.scatter(X[:,0], X[:,1], c=Y[:,0], edgecolors= 'none');"
   ]
  },
  {
   "cell_type": "markdown",
   "metadata": {},
   "source": [
    "Define a **logistic regression** for debugging. "
   ]
  },
  {
   "cell_type": "code",
   "execution_count": 27,
   "metadata": {},
   "outputs": [
    {
     "name": "stdout",
     "output_type": "stream",
     "text": [
      "Linear 2 -> 2\n",
      "LogSoftMax\n",
      "\n"
     ]
    }
   ],
   "source": [
    "net = Sequential()\n",
    "net.add(Linear(2, 2))\n",
    "net.add(LogSoftMax())\n",
    "\n",
    "criterion = ClassNLLCriterion()\n",
    "\n",
    "print(net)\n",
    "\n",
    "# Test something like this then \n",
    "\n",
    "# net = Sequential()\n",
    "# net.add(Linear(2, 4))\n",
    "# net.add(ReLU())\n",
    "# net.add(Linear(4, 2))\n",
    "# net.add(LogSoftMax())"
   ]
  },
  {
   "cell_type": "markdown",
   "metadata": {},
   "source": [
    "Start with batch_size = 1000 to make sure every step lowers the loss, then try stochastic version."
   ]
  },
  {
   "cell_type": "code",
   "execution_count": 28,
   "metadata": {},
   "outputs": [],
   "source": [
    "# Optimizer params\n",
    "optimizer_config = {'learning_rate' : 1e-1, 'momentum': 0.9}\n",
    "optimizer_state = {}\n",
    "\n",
    "# Looping params\n",
    "n_epoch = 20\n",
    "batch_size = 128"
   ]
  },
  {
   "cell_type": "code",
   "execution_count": 29,
   "metadata": {},
   "outputs": [],
   "source": [
    "# batch generator\n",
    "def get_batches(dataset, batch_size):\n",
    "    X, Y = dataset\n",
    "    n_samples = X.shape[0]\n",
    "        \n",
    "    # Shuffle at the start of epoch\n",
    "    indices = np.arange(n_samples)\n",
    "    np.random.shuffle(indices)\n",
    "    \n",
    "    for start in range(0, n_samples, batch_size):\n",
    "        end = min(start + batch_size, n_samples)\n",
    "        \n",
    "        batch_idx = indices[start:end]\n",
    "    \n",
    "        yield X[batch_idx], Y[batch_idx]"
   ]
  },
  {
   "cell_type": "markdown",
   "metadata": {},
   "source": [
    "### Train"
   ]
  },
  {
   "cell_type": "markdown",
   "metadata": {},
   "source": [
    "Basic training loop. Examine it."
   ]
  },
  {
   "cell_type": "code",
   "execution_count": 30,
   "metadata": {},
   "outputs": [
    {
     "data": {
      "image/png": "[encoded data removed]",
      "text/plain": [
       "<Figure size 576x432 with 1 Axes>"
      ]
     },
     "metadata": {
      "needs_background": "light"
     },
     "output_type": "display_data"
    },
    {
     "name": "stdout",
     "output_type": "stream",
     "text": [
      "Current loss: 0.000061\n"
     ]
    }
   ],
   "source": [
    "loss_history = []\n",
    "\n",
    "for i in range(n_epoch):\n",
    "    for x_batch, y_batch in get_batches((X, Y), batch_size):\n",
    "        \n",
    "        net.zeroGradParameters()\n",
    "        \n",
    "        # Forward\n",
    "        predictions = net.forward(x_batch)\n",
    "        loss = criterion.forward(predictions, y_batch)\n",
    "    \n",
    "        # Backward\n",
    "        dp = criterion.backward(predictions, y_batch)\n",
    "        net.backward(x_batch, dp)\n",
    "        \n",
    "        # Update weights\n",
    "        sgd_momentum(net.getParameters(), \n",
    "                     net.getGradParameters(), \n",
    "                     optimizer_config,\n",
    "                     optimizer_state)      \n",
    "        \n",
    "        loss_history.append(loss)\n",
    "\n",
    "    # Visualize\n",
    "    display.clear_output(wait=True)\n",
    "    plt.figure(figsize=(8, 6))\n",
    "        \n",
    "    plt.title(\"Training loss\")\n",
    "    plt.xlabel(\"#iteration\")\n",
    "    plt.ylabel(\"loss\")\n",
    "    plt.plot(loss_history, 'b')\n",
    "    plt.show()\n",
    "    \n",
    "    print('Current loss: %f' % loss)    "
   ]
  },
  {
   "cell_type": "markdown",
   "metadata": {},
   "source": [
    "# Digit classification "
   ]
  },
  {
   "cell_type": "markdown",
   "metadata": {},
   "source": [
    "We will be using old good [MNIST](http://yann.lecun.com/exdb/mnist/) as our dataset."
   ]
  },
  {
   "cell_type": "code",
   "execution_count": 1,
   "metadata": {},
   "outputs": [],
   "source": [
    "import mnist\n",
    "X_train, y_train, X_val, y_val, X_test, y_test = mnist.load_dataset()"
   ]
  },
  {
   "cell_type": "markdown",
   "metadata": {},
   "source": [
    "One-hot encode the labels first."
   ]
  },
  {
   "cell_type": "code",
   "execution_count": 5,
   "metadata": {},
   "outputs": [
    {
     "data": {
      "text/plain": [
       "(50000,)"
      ]
     },
     "execution_count": 5,
     "metadata": {},
     "output_type": "execute_result"
    }
   ],
   "source": [
    "y_train.shape"
   ]
  },
  {
   "cell_type": "code",
   "execution_count": 32,
   "metadata": {},
   "outputs": [],
   "source": [
    "y_train_hot = np.eye(10)[y_train]\n",
    "y_val_hot = np.eye(10)[y_val]\n",
    "y_test_hot  = np.eye(10)[y_test]"
   ]
  },
  {
   "cell_type": "markdown",
   "metadata": {},
   "source": [
    "We need to reshape our 2D data to 1D."
   ]
  },
  {
   "cell_type": "code",
   "execution_count": 33,
   "metadata": {},
   "outputs": [],
   "source": [
    "X_train = X_train.reshape(X_train.shape[0], -1)\n",
    "X_val = X_val.reshape(X_val.shape[0], -1)\n",
    "X_test = X_test.reshape(X_test.shape[0], -1)"
   ]
  },
  {
   "cell_type": "markdown",
   "metadata": {},
   "source": [
    "-  *[1.0 pts]* **Compare** `ReLU`, `ELU`, `LeakyReLU`, `SoftPlus` activation functions. \n",
    "Use an architecture of your choice for the comparison (no need to pick the best optimizer parameters for now). Write your personal opinion on the activation functions, think about computation times too. Plot the loss curves from activation functions comparison on a single plot. Please find a scale (log?) when the lines are distinguishable, do not forget about naming the axes, the plot should be informative. \n",
    "\n",
    "- *[0.5 pts]* **Try** inserting `BatchNormalization` **(followed by `ChannelwiseScaling`)** between `Linear` module and activation functions. For all activation functions, plot versions with and without `BatchNormalization` on a single plot. Please find a scale (log?) when the lines are distinguishable, do not forget about naming the axes, the plot should be goodlooking.  Does `BatchNormalization` help?\n",
    "\n",
    "- *[0.5 pts]* Plot the losses for two networks: one trained by momentum_sgd, another one trained by Adam. Which one performs better?  \n",
    "\n",
    "- *[1.0 pts]* Increase the number of parameters in the network. Try inserting the Dropout layer. Compare the validation performance and the gap between test and validation performances for the two experiments (with and without Dropout). Compare the loss plots. Which one converges slower?\n"
   ]
  },
  {
   "cell_type": "code",
   "execution_count": 34,
   "metadata": {},
   "outputs": [],
   "source": [
    "# YOUR CODE"
   ]
  },
  {
   "cell_type": "code",
   "execution_count": 35,
   "metadata": {},
   "outputs": [
    {
     "data": {
      "image/png": "[encoded data removed]",
      "text/plain": [
       "<Figure size 576x432 with 1 Axes>"
      ]
     },
     "metadata": {
      "needs_background": "light"
     },
     "output_type": "display_data"
    },
    {
     "data": {
      "text/html": [
       "<div>\n",
       "<style scoped>\n",
       "    .dataframe tbody tr th:only-of-type {\n",
       "        vertical-align: middle;\n",
       "    }\n",
       "\n",
       "    .dataframe tbody tr th {\n",
       "        vertical-align: top;\n",
       "    }\n",
       "\n",
       "    .dataframe thead th {\n",
       "        text-align: right;\n",
       "    }\n",
       "</style>\n",
       "<table border=\"1\" class=\"dataframe\">\n",
       "  <thead>\n",
       "    <tr style=\"text-align: right;\">\n",
       "      <th></th>\n",
       "      <th>ReLU</th>\n",
       "      <th>ELU</th>\n",
       "      <th>LeakyReLU</th>\n",
       "      <th>SoftPlus</th>\n",
       "    </tr>\n",
       "  </thead>\n",
       "  <tbody>\n",
       "    <tr>\n",
       "      <th>time, s</th>\n",
       "      <td>114.764318</td>\n",
       "      <td>160.528666</td>\n",
       "      <td>146.936931</td>\n",
       "      <td>154.357063</td>\n",
       "    </tr>\n",
       "  </tbody>\n",
       "</table>\n",
       "</div>"
      ],
      "text/plain": [
       "               ReLU         ELU   LeakyReLU    SoftPlus\n",
       "time, s  114.764318  160.528666  146.936931  154.357063"
      ]
     },
     "execution_count": 35,
     "metadata": {},
     "output_type": "execute_result"
    }
   ],
   "source": [
    "import pandas as pd\n",
    "\n",
    "def get_net(non_linearity):\n",
    "    net = Sequential()\n",
    "    net.add(Linear(X_train.shape[1], 200))\n",
    "    net.add(non_linearity)\n",
    "    net.add(Linear(200, 10))\n",
    "    net.add(LogSoftMax())\n",
    "    return net\n",
    "\n",
    "\n",
    "nets = {'ReLU': None, 'ELU': None, 'LeakyReLU': None, 'SoftPlus': None}\n",
    "non_linearities = {'ReLU': ReLU(), 'ELU': ELU(), 'LeakyReLU': LeakyReLU(), 'SoftPlus': SoftPlus()}\n",
    "loss_histories = {'ReLU': [], 'ELU': [], 'LeakyReLU': [], 'SoftPlus': []}\n",
    "times = {'ReLU': None, 'ELU': None, 'LeakyReLU': None, 'SoftPlus': None}\n",
    "\n",
    "for name, non_linearity in non_linearities.items():\n",
    "    nets[name] = get_net(non_linearity)\n",
    "\n",
    "            \n",
    "criterion = ClassNLLCriterion()\n",
    "\n",
    "# Optimizer params\n",
    "optimizer_config = {'learning_rate' : 1e-1, 'momentum': 0.9}\n",
    "\n",
    "# Looping params\n",
    "n_epoch = 100\n",
    "batch_size = 128\n",
    "                               \n",
    "for name, net in nets.items():\n",
    "    times[name] = time()\n",
    "    optimizer_state = {}\n",
    "    for i in range(n_epoch):\n",
    "        \n",
    "        loss_epoch = []\n",
    "        \n",
    "        for x_batch, y_batch in get_batches((X_train, y_train_hot), batch_size):\n",
    "\n",
    "            net.zeroGradParameters()\n",
    "\n",
    "            # Forward\n",
    "            predictions = net.forward(x_batch)\n",
    "            loss = criterion.forward(predictions, y_batch)\n",
    "\n",
    "            # Backward\n",
    "            dp = criterion.backward(predictions, y_batch)\n",
    "            net.backward(x_batch, dp)\n",
    "\n",
    "            # Update weights\n",
    "            sgd_momentum(net.getParameters(), \n",
    "                         net.getGradParameters(), \n",
    "                         optimizer_config,\n",
    "                         optimizer_state)\n",
    "            \n",
    "            loss_epoch.append(loss)\n",
    "            \n",
    "        loss_histories[name].append(np.mean(loss_epoch))\n",
    "    times[name] = time() - times[name]\n",
    "            \n",
    "# Visualize\n",
    "plt.figure(figsize=(8, 6))\n",
    "for name, loss_history in loss_histories.items():\n",
    "    legend_name = name + ', loss = ' + str(round(loss_history[-1], 7))\n",
    "    plt.plot(range(1, n_epoch + 1), loss_history, label=legend_name)\n",
    "plt.title(\"Training loss\")\n",
    "plt.xlabel(\"#iteration\")\n",
    "plt.ylabel(\"loss\")\n",
    "plt.yscale('log')\n",
    "plt.legend()            \n",
    "plt.show()\n",
    "\n",
    "pd.DataFrame(times, index=['time, s'])"
   ]
  },
  {
   "cell_type": "markdown",
   "metadata": {},
   "source": [
    "The best activation functions in this case are ReLU and LeakyReLU, as they are better than the others at minimising losses and have the smallest computation time."
   ]
  },
  {
   "cell_type": "code",
   "execution_count": 36,
   "metadata": {},
   "outputs": [
    {
     "data": {
      "image/png": "[encoded data removed]",
      "text/plain": [
       "<Figure size 1440x360 with 4 Axes>"
      ]
     },
     "metadata": {
      "needs_background": "light"
     },
     "output_type": "display_data"
    }
   ],
   "source": [
    "def get_net_with_batch_norm(non_linearity):\n",
    "    net = Sequential()\n",
    "    net.add(Linear(X_train.shape[1], 200))\n",
    "    net.add(BatchNormalization())\n",
    "    net.add(ChannelwiseScaling(200))\n",
    "    net.add(non_linearity)\n",
    "    net.add(Linear(200, 10))\n",
    "    net.add(LogSoftMax())\n",
    "    return net\n",
    "\n",
    "\n",
    "nets_batch_norm = {'ReLU': None, 'ELU': None, 'LeakyReLU': None, 'SoftPlus': None}\n",
    "non_linearities = {'ReLU': ReLU(), 'ELU': ELU(), 'LeakyReLU': LeakyReLU(), 'SoftPlus': SoftPlus()}\n",
    "loss_histories_batch_norm = {'ReLU': [], 'ELU': [], 'LeakyReLU': [], 'SoftPlus': []}\n",
    "\n",
    "for name, non_linearity in non_linearities.items():\n",
    "    nets[name] = get_net_with_batch_norm(non_linearity)\n",
    "\n",
    "# Optimizer params, Criterion and Looping params are the same  \n",
    "optimizer_config = {'learning_rate' : 1e-1, 'momentum': 0.9}\n",
    "\n",
    "# Looping params\n",
    "n_epoch = 100\n",
    "batch_size = 128\n",
    "\n",
    "            \n",
    "for name, net in nets.items():\n",
    "    optimizer_state = {}\n",
    "    for i in range(n_epoch):\n",
    "        \n",
    "        loss_epoch = []\n",
    "        \n",
    "        for x_batch, y_batch in get_batches((X_train, y_train_hot), batch_size):\n",
    "\n",
    "            net.zeroGradParameters()\n",
    "\n",
    "            # Forward\n",
    "            predictions = net.forward(x_batch)\n",
    "            loss = criterion.forward(predictions, y_batch)\n",
    "\n",
    "            # Backward\n",
    "            dp = criterion.backward(predictions, y_batch)\n",
    "            net.backward(x_batch, dp)\n",
    "\n",
    "            # Update weights\n",
    "            sgd_momentum(net.getParameters(), \n",
    "                         net.getGradParameters(), \n",
    "                         optimizer_config,\n",
    "                         optimizer_state)\n",
    "            \n",
    "            loss_epoch.append(loss)\n",
    "            \n",
    "        loss_histories_batch_norm[name].append(np.mean(loss_epoch))\n",
    "\n",
    "            \n",
    "# Visualize\n",
    "fig, axes = plt.subplots(ncols=4, nrows=1, figsize=(20, 5))\n",
    "for name, ax in zip(loss_histories_batch_norm, axes.flat):\n",
    "    ax.plot(range(1, n_epoch + 1), loss_histories_batch_norm[name], label='with BatchNorm')\n",
    "    ax.plot(range(1, n_epoch + 1), loss_histories[name], label='without BatchNorm')\n",
    "    ax.set_title(f\"Training loss for {name}\")\n",
    "    ax.set_xlabel(\"#iteration\")\n",
    "    ax.set_ylabel(\"loss\")\n",
    "    ax.set_yscale('log')\n",
    "    ax.legend() \n",
    "    \n",
    "plt.show()"
   ]
  },
  {
   "cell_type": "markdown",
   "metadata": {},
   "source": [
    "Seems like Batch Normalization can help (perhaps, with proper tuning of hyperparameters it could be even better) in case of LeakyReLU and ReLU, but not in case of ELU or SoftPlus."
   ]
  },
  {
   "cell_type": "code",
   "execution_count": 37,
   "metadata": {},
   "outputs": [
    {
     "data": {
      "image/png": "[encoded data removed]",
      "text/plain": [
       "<Figure size 576x432 with 1 Axes>"
      ]
     },
     "metadata": {
      "needs_background": "light"
     },
     "output_type": "display_data"
    }
   ],
   "source": [
    "# Optimizer params (criterion and looping params are the same)\n",
    "optimizer_config_adam = {'learning_rate' : 5e-4, 'epsilon':10e-8,\n",
    "                         'beta1': 0.9, 'beta2': 0.999 }\n",
    "optimizer_state = {}\n",
    "n_epoch = 100\n",
    "batch_size = 128\n",
    "\n",
    "# Define a net (without BatchNorm)\n",
    "net_adam = get_net(ReLU())\n",
    "loss_histories_adam = []\n",
    "\n",
    "for i in range(n_epoch):\n",
    "\n",
    "    loss_epoch = []\n",
    "\n",
    "    for x_batch, y_batch in get_batches((X_train, y_train_hot), batch_size):\n",
    "\n",
    "        net_adam.zeroGradParameters()\n",
    "\n",
    "        # Forward\n",
    "        predictions = net_adam.forward(x_batch)\n",
    "        loss = criterion.forward(predictions, y_batch)\n",
    "\n",
    "        # Backward\n",
    "        dp = criterion.backward(predictions, y_batch)\n",
    "        net_adam.backward(x_batch, dp)\n",
    "\n",
    "        # Update weights\n",
    "        adam_optimizer(net_adam.getParameters(), \n",
    "                       net_adam.getGradParameters(), \n",
    "                       optimizer_config_adam,\n",
    "                       optimizer_state)\n",
    "\n",
    "        loss_epoch.append(loss)\n",
    "    if i == 30:\n",
    "           optimizer_config_adam['learning_rate'] = 1e-4\n",
    "            \n",
    "\n",
    "    loss_histories_adam.append(np.mean(loss_epoch))\n",
    "\n",
    "            \n",
    "# Visualize\n",
    "plt.figure(figsize=(8, 6))\n",
    "plt.plot(range(1, n_epoch + 1), loss_histories_adam, label='Adam')\n",
    "plt.plot(range(1, n_epoch + 1), loss_histories['ReLU'], label='SGD with momentum')\n",
    "plt.title(\"Training loss\")\n",
    "plt.xlabel(\"#iteration\")\n",
    "plt.ylabel(\"loss\")\n",
    "plt.yscale('log')\n",
    "plt.legend()            \n",
    "plt.show()\n"
   ]
  },
  {
   "cell_type": "markdown",
   "metadata": {},
   "source": [
    "The Adam performs better at the end, because SGD aparrently stuck in local minima, but Adam manage to break through it so that the final loss is lower (it should be noted, that I decreased a learning rate for 5 times at 30th epochs for Adam, because the old learning rate became too big)."
   ]
  },
  {
   "cell_type": "code",
   "execution_count": 38,
   "metadata": {},
   "outputs": [
    {
     "data": {
      "image/png": "[encoded data removed]",
      "text/plain": [
       "<Figure size 1008x360 with 2 Axes>"
      ]
     },
     "metadata": {
      "needs_background": "light"
     },
     "output_type": "display_data"
    }
   ],
   "source": [
    "# Increase number of parameters and add Dropout\n",
    "def get_wider_net(non_linearity, dropout=False):\n",
    "    net = Sequential()\n",
    "    if dropout:\n",
    "        net.add(Linear(X_train.shape[1], 300))\n",
    "        net.add(Dropout())\n",
    "        net.add(non_linearity)\n",
    "        net.add(Linear(300, 10))\n",
    "        net.add(Dropout())\n",
    "        net.add(LogSoftMax())\n",
    "    else:\n",
    "        net.add(Linear(X_train.shape[1], 300))\n",
    "        net.add(non_linearity)\n",
    "        net.add(Linear(300, 10))\n",
    "        net.add(LogSoftMax())\n",
    "    return net\n",
    "\n",
    "\n",
    "\n",
    "\n",
    "nets_wider = {'With Dropout': None, 'Without Dropout': None}\n",
    "loss_histories_wider = {'With Dropout': [], 'Without Dropout': []}\n",
    "loss_histories_wider_val = {'With Dropout': [], 'Without Dropout': []}\n",
    "loss_histories_wider_test = {'With Dropout': [], 'Without Dropout': []}\n",
    "\n",
    "nets_wider['With Dropout'] = get_wider_net(ReLU(), dropout=True)\n",
    "nets_wider['Without Dropout'] = get_wider_net(ReLU(), dropout=False)\n",
    "\n",
    "n_epoch = 50\n",
    "batch_size = 128\n",
    "\n",
    "for name, net in nets_wider.items():\n",
    "    optimizer_config_adam = {'learning_rate' : 5e-4, 'epsilon':10e-8,\n",
    "                         'beta1': 0.9, 'beta2': 0.999 }\n",
    "    optimizer_state = {}\n",
    "    \n",
    "    for i in range(n_epoch):\n",
    "\n",
    "        loss_epoch = []\n",
    "        loss_epoch_val = []\n",
    "        loss_epoch_test = []\n",
    "        net.train()\n",
    "        for x_batch, y_batch in get_batches((X_train, y_train_hot), batch_size):\n",
    "\n",
    "            net.zeroGradParameters()\n",
    "\n",
    "            # Forward\n",
    "            predictions = net.forward(x_batch)\n",
    "            loss = criterion.forward(predictions, y_batch)\n",
    "\n",
    "            # Backward\n",
    "            dp = criterion.backward(predictions, y_batch)\n",
    "            net.backward(x_batch, dp)\n",
    "\n",
    "            # Update weights\n",
    "            adam_optimizer(net.getParameters(), \n",
    "                           net.getGradParameters(), \n",
    "                           optimizer_config_adam,\n",
    "                           optimizer_state)\n",
    "\n",
    "            loss_epoch.append(loss)\n",
    "                \n",
    "        net.evaluate()\n",
    "        for x_batch_val, y_batch_val in get_batches((X_val, y_val_hot), batch_size):\n",
    "            predictions = net.forward(x_batch_val)\n",
    "            loss = criterion.forward(predictions, y_batch_val)\n",
    "            loss_epoch_val.append(loss)\n",
    "        \n",
    "        for x_batch_test, y_batch_test in get_batches((X_test, y_test_hot), batch_size):\n",
    "            predictions = net.forward(x_batch_test)\n",
    "            loss = criterion.forward(predictions, y_batch_test)\n",
    "            loss_epoch_test.append(loss)\n",
    "        \n",
    "        loss_histories_wider[name].append(np.mean(loss_epoch))\n",
    "        loss_histories_wider_val[name].append(np.mean(loss_epoch_val))\n",
    "        loss_histories_wider_test[name].append(np.mean(loss_epoch_test))\n",
    "\n",
    "\n",
    "# Visualize\n",
    "fig, axes = plt.subplots(ncols=2, nrows=1, figsize=(14, 5))\n",
    "for name, ax in zip(nets_wider, axes.flat):\n",
    "    ax.plot(range(1, n_epoch + 1), loss_histories_wider[name], \n",
    "            label=f'train, best score = {min(loss_histories_wider[name]):.6}')\n",
    "    ax.plot(range(1, n_epoch + 1), loss_histories_wider_val[name], \n",
    "            label=f'val, best score = {min(loss_histories_wider_val[name]):.6}')\n",
    "    ax.plot(range(1, n_epoch + 1), loss_histories_wider_test[name], \n",
    "            label=f'test, best score = {min(loss_histories_wider_test[name]):.6}')\n",
    "    ax.set_title(f\"Loss for net {name}\")\n",
    "    ax.set_xlabel(\"#iteration\")\n",
    "    ax.set_ylabel(\"loss\")\n",
    "    ax.set_yscale('log')\n",
    "#     ax.set_ylim(0.02, 1.5)\n",
    "    ax.legend() \n",
    "    \n",
    "plt.show()"
   ]
  },
  {
   "cell_type": "markdown",
   "metadata": {},
   "source": [
    "\n",
    "\n",
    "* The loss with Dropout converges slower, but it eventually gives better results, because the best score (the minimum of the loss over all the epochs) on validation and test is lower. Besides, the net without Dropout quickly starts to overfit, i.e. the val loss starts to increase whereas train loss becames very low. With Dropout the overfitting did not appear.\n",
    "* In my experiments the gap between validation and test losses is practically absent, because I don't use neither of them for hyperparametr tuning."
   ]
  },
  {
   "cell_type": "markdown",
   "metadata": {},
   "source": [
    "# Part 4: Convolutional neural networks (4.0 pts)\n",
    "\n",
    "In the previous part you needed to train a dense, or fully-connected, neural network. This part of the homework is to prepare modules for training a basic convolutional network: `Conv2D`, `Flatten`, `MaxPool2d`. "
   ]
  },
  {
   "cell_type": "markdown",
   "metadata": {},
   "source": [
    "Your task is to implement a simple framework for convolutional neural networks training. While convolutional neural networks is a subject of lecture 3, we expect that there are a lot of students who are familiar with the topic.\n",
    "\n",
    "In order to successfully complete this part, you will have to:\n",
    "\n",
    "- Implement all the layers below (`Conv2d`, `MaxPool2d`; `Flatten` is already implemented for convenience). Good implementation should pass all the tests in the subsequent cells.\n",
    "- Train a CNN that has at least one `Conv2d` layer and at least one `MaxPool2d` layer and achieves at least 97% accuracy on MNIST test set.\n",
    "\n",
    "Feel free to use the code from Part 3 for debugging or as a source of code snippets. "
   ]
  },
  {
   "cell_type": "markdown",
   "metadata": {},
   "source": [
    "# Layers for Part 4"
   ]
  },
  {
   "cell_type": "markdown",
   "metadata": {},
   "source": [
    "## 12. Conv2d *[1.5 pts]*\n",
    "- input:   **`batch_size x in_channels x h x w`**\n",
    "- output: **`batch_size x out_channels x h x w`**\n",
    "\n",
    "You should implement a layer which works like PyTorch `Conv2d` layer with `stride=1` and zero-padding outside of image using `scipy.signal.correlate` function.\n",
    "\n",
    "Practical notes:\n",
    "- While the layer name is \"convolution\", most of neural network frameworks (including TensorFlow and PyTorch) implement operation that is called [cross-correlation](https://en.wikipedia.org/wiki/Cross-correlation#Cross-correlation_of_deterministic_signals) in signal processing theory. So **don't use** `scipy.signal.convolve` since it implements [convolution](https://en.wikipedia.org/wiki/Convolution#Discrete_convolution) in terms of signal processing.\n",
    "- It may be convenient to use `np.pad` (or `skimage.util.pad`, which is probably deprecated nowadays) for zero-padding. **Note that any impelentations with non-zero padding won't pass the tests!**\n",
    "- It's rather ok to implement convolution over 4d array using 2 nested loops: one over batch size dimension and another one over output filters dimension\n",
    "- Having troubles with understanding how to implement the layer? \n",
    " - Check out e.g. this link on how to make forward pass and to calculate all the gradients: https://towardsdatascience.com/backpropagation-in-a-convolutional-layer-24c8d64d8509\n",
    " - May the google be with you"
   ]
  },
  {
   "cell_type": "code",
   "execution_count": 39,
   "metadata": {},
   "outputs": [],
   "source": [
    "import scipy as sp\n",
    "import scipy.signal\n",
    "\n",
    "class Conv2d(Module):\n",
    "    def __init__(self, in_channels, out_channels, kernel_size):\n",
    "        super(Conv2d, self).__init__()\n",
    "        assert kernel_size % 2 == 1, kernel_size\n",
    "       \n",
    "        stdv = 1./np.sqrt(in_channels)\n",
    "        self.W = np.random.uniform(-stdv, stdv, size = (out_channels, in_channels, kernel_size, kernel_size))\n",
    "        self.b = np.random.uniform(-stdv, stdv, size=(out_channels,))\n",
    "        self.in_channels = in_channels\n",
    "        self.out_channels = out_channels\n",
    "        self.kernel_size = kernel_size\n",
    "        \n",
    "        self.gradW = np.zeros_like(self.W)\n",
    "        self.gradb = np.zeros_like(self.b)\n",
    "        \n",
    "    def updateOutput(self, input):\n",
    "        pad_size = self.kernel_size // 2\n",
    "        # YOUR CODE ##############################\n",
    "        \n",
    "        # 1. zero-pad the input array\n",
    "        input_pad = np.pad(input, pad_width=((0,), (0,), (pad_size,), (pad_size, )), mode='constant', constant_values=0)\n",
    "        # 2. compute convolution using scipy.signal.correlate(... , mode='valid')\n",
    "        self.output = np.zeros((input.shape[0], self.out_channels, input.shape[2], input.shape[3]))\n",
    "        for out_channel in range(self.out_channels):\n",
    "            kernel = self.W[out_channel].reshape(1, self.in_channels, self.kernel_size, self.kernel_size)\n",
    "            self.output[:, out_channel, :, :] = sp.signal.correlate(input_pad, kernel, mode='valid').reshape(input.shape[0], input.shape[2], input.shape[3])\n",
    "        # 3. add bias value\n",
    "        self.output += self.b.reshape(1, self.out_channels, 1, 1)\n",
    "        \n",
    "        return self.output\n",
    "    \n",
    "    def updateGradInput(self, input, gradOutput):\n",
    "        pad_size = self.kernel_size // 2\n",
    "        # YOUR CODE ##############################\n",
    "        # self.gradInput = ...\n",
    "        # 1. zero-pad the gradOutput\n",
    "        gradOutput_pad = np.pad(gradOutput, pad_width=((0,), (0,), (pad_size,), (pad_size, )), mode='constant', constant_values=0)\n",
    "        # 2. compute 'self.gradInput' value using scipy.signal.correlate(... , mode='valid')\n",
    "        W_for_grad = self.W[:, :, ::-1, ::-1]\n",
    "        self.gradInput = np.zeros_like(input)\n",
    "        for in_channel in range(self.in_channels):\n",
    "            kernel = W_for_grad[:, in_channel, :, :].reshape(1, self.out_channels, self.kernel_size, self.kernel_size)\n",
    "            self.gradInput[:, in_channel, :, :] = sp.signal.correlate(gradOutput_pad, kernel, mode='valid').reshape(input.shape[0], input.shape[2], input.shape[3])\n",
    "        \n",
    "        return self.gradInput\n",
    "    \n",
    "    def accGradParameters(self, input, gradOutput):\n",
    "        pad_size = self.kernel_size // 2\n",
    "        # YOUR CODE #############\n",
    "        # 1. zero-pad the input \n",
    "        input_pad = np.pad(input, pad_width=((0,), (0,), (pad_size,), (pad_size, )), mode='constant', constant_values=0)\n",
    "        # 2. compute 'self.gradW' using scipy.signal.correlate(... , mode='valid')\n",
    "        for in_channel in range(self.in_channels):\n",
    "            for out_channel in range(self.out_channels):\n",
    "                self.gradW[out_channel, in_channel, :, :] = \\\n",
    "                sp.signal.correlate(input_pad[:, in_channel, :, :], \n",
    "                                    gradOutput[:, out_channel, :, :], mode='valid')\n",
    "        \n",
    "        \n",
    "        # 3. compute 'self.gradb' - formulas like in Linear of ChannelwiseScaling layers\n",
    "        self.gradb = gradOutput.sum(axis=(0, 2, 3))\n",
    "        \n",
    "        # self.gradW = ...\n",
    "        # self.gradb = ...\n",
    "        pass\n",
    "    \n",
    "    def zeroGradParameters(self):\n",
    "        self.gradW.fill(0)\n",
    "        self.gradb.fill(0)\n",
    "        \n",
    "    def getParameters(self):\n",
    "        return [self.W, self.b]\n",
    "    \n",
    "    def getGradParameters(self):\n",
    "        return [self.gradW, self.gradb]\n",
    "    \n",
    "    def __repr__(self):\n",
    "        s = self.W.shape\n",
    "        q = 'Conv2d %d -> %d' %(s[1],s[0])\n",
    "        return q"
   ]
  },
  {
   "cell_type": "markdown",
   "metadata": {},
   "source": [
    "## 13. MaxPool2d *[1.0 pts]*\n",
    "- input:   **`batch_size x n_input_channels x h x w`**\n",
    "- output: **`batch_size x n_output_channels x h // kern_size x w // kern_size`**\n",
    "\n",
    "You are to implement simplified version of pytorch `MaxPool2d` layer with stride = kernel_size. Please note, that it's not a common case that stride = kernel_size: in AlexNet and ResNet kernel_size for max-pooling was set to 3, while stride was set to 2. We introduce this restriction to make implementation simplier.\n",
    "\n",
    "Practical notes:\n",
    "- During forward pass what you need to do is just to reshape the input tensor to `[n, c, h / kern_size, kern_size, w / kern_size, kern_size]`, swap two axes and take maximums over the last two dimensions. Reshape + axes swap is sometimes called space-to-batch transform.\n",
    "- During backward pass you need to place the gradients in positions of maximal values taken during the forward pass\n",
    "- In real frameworks the indices of maximums are stored in memory during the forward pass. It is cheaper than to keep the layer input in memory and recompute the maximums. \n",
    "\n",
    "**Hint:** `np.put_along_axis` might be useful during backward pass."
   ]
  },
  {
   "cell_type": "code",
   "execution_count": 40,
   "metadata": {},
   "outputs": [],
   "source": [
    "class MaxPool2d(Module):\n",
    "    def __init__(self, kernel_size):\n",
    "        super(MaxPool2d, self).__init__()\n",
    "        self.kernel_size = kernel_size\n",
    "        self.gradInput = None\n",
    "                    \n",
    "    def updateOutput(self, input):\n",
    "        input_h, input_w = input.shape[-2:]\n",
    "        # your may remove these asserts and implement MaxPool2d with padding\n",
    "        assert input_h % self.kernel_size == 0  \n",
    "        assert input_w % self.kernel_size == 0\n",
    "        \n",
    "        # YOUR CODE #############################\n",
    "        # self.output = ...\n",
    "        # self.max_indices = ...\n",
    "        input = input.reshape((input.shape[0], input.shape[1], \n",
    "                               input_h // self.kernel_size, self.kernel_size, \n",
    "                               input_w // self.kernel_size, self.kernel_size))\n",
    "        input = np.swapaxes(input, -3, -2)\n",
    "        self.mask = 1 * (input == input.max(axis = (-2, -1), keepdims=True))\n",
    "        self.output = np.amax(input, axis=(-2,-1))\n",
    "        \n",
    "        return self.output\n",
    "    \n",
    "    def updateGradInput(self, input, gradOutput):\n",
    "        # YOUR CODE #############################\n",
    "        # self.gradInput = ...\n",
    "        input_h, input_w = input.shape[-2:]\n",
    "        gradOutput = gradOutput.reshape((input.shape[0], input.shape[1], \n",
    "                                         input_h // self.kernel_size, 1, \n",
    "                                         input_w // self.kernel_size, 1))\n",
    "        gradOutput = np.swapaxes(gradOutput, -3, -2)\n",
    "        self.gradInput = np.swapaxes((gradOutput * self.mask), -3, -2).reshape(input.shape)\n",
    "        \n",
    "        return self.gradInput\n",
    "    \n",
    "    def __repr__(self):\n",
    "        q = 'MaxPool2d, kern %d, stride %d' %(self.kernel_size, self.kernel_size)\n",
    "        return q"
   ]
  },
  {
   "cell_type": "markdown",
   "metadata": {},
   "source": [
    "### Flatten layer\n",
    "Just reshapes inputs and gradients. It's usually used as proxy layer between Conv2d and Linear.\n",
    "\n",
    "The layer is already implemented below, you don't need to change it."
   ]
  },
  {
   "cell_type": "code",
   "execution_count": 41,
   "metadata": {},
   "outputs": [],
   "source": [
    "class Flatten(Module):\n",
    "    def __init__(self):\n",
    "        super(Flatten, self).__init__()\n",
    "    \n",
    "    def updateOutput(self, input):\n",
    "        self.output = input.reshape(len(input), -1)\n",
    "        return self.output\n",
    "    \n",
    "    def updateGradInput(self, input, gradOutput):\n",
    "        self.gradInput = gradOutput.reshape(input.shape)\n",
    "        return self.gradInput\n",
    "    \n",
    "    def __repr__(self):\n",
    "        return \"Flatten\""
   ]
  },
  {
   "cell_type": "markdown",
   "metadata": {},
   "source": [
    "# Testing your layers\n",
    "\n",
    "Please run the following cells to check if the implementations are correct (all tests are passed):"
   ]
  },
  {
   "cell_type": "code",
   "execution_count": 42,
   "metadata": {},
   "outputs": [],
   "source": [
    "from test_modules import make_advanced_tester\n",
    "import unittest"
   ]
  },
  {
   "cell_type": "code",
   "execution_count": 43,
   "metadata": {},
   "outputs": [],
   "source": [
    "TestLayersAdv = make_advanced_tester({\n",
    "    'Conv2d': Conv2d,\n",
    "    'Flatten': Flatten,\n",
    "    'MaxPool2d': MaxPool2d,\n",
    "})"
   ]
  },
  {
   "cell_type": "code",
   "execution_count": 44,
   "metadata": {},
   "outputs": [],
   "source": [
    "suite = unittest.TestLoader().loadTestsFromTestCase(TestLayersAdv)"
   ]
  },
  {
   "cell_type": "code",
   "execution_count": 45,
   "metadata": {},
   "outputs": [
    {
     "name": "stderr",
     "output_type": "stream",
     "text": [
      "test_Conv2d (test_modules.make_advanced_tester.<locals>._tester) ... ok\n",
      "test_MaxPool2d (test_modules.make_advanced_tester.<locals>._tester) ... ok\n",
      "\n",
      "----------------------------------------------------------------------\n",
      "Ran 2 tests in 0.303s\n",
      "\n",
      "OK\n"
     ]
    },
    {
     "data": {
      "text/plain": [
       "<unittest.runner.TextTestResult run=2 errors=0 failures=0>"
      ]
     },
     "execution_count": 45,
     "metadata": {},
     "output_type": "execute_result"
    }
   ],
   "source": [
    "unittest.TextTestRunner(verbosity=2).run(suite)"
   ]
  },
  {
   "cell_type": "markdown",
   "metadata": {},
   "source": [
    "# Training a convolutional network  *[1.5 pts]*\n",
    "\n",
    "Here you task is to train a CNN that has at least one `Conv2d` layer and `MaxPool2d` layer which achieves at least 97% accuracy on MNIST **test** set.\n",
    "\n",
    "**Hint:** Layers implemented in this homework run on CPU, and if the network is too deep, training might last forever, so we suggest to start with smaller networks. This subtask can be solved with a ConvNet having only 3 `Conv2d` layers (or even less) with a small number of channels."
   ]
  },
  {
   "cell_type": "code",
   "execution_count": 46,
   "metadata": {},
   "outputs": [],
   "source": [
    "%matplotlib inline\n",
    "from time import time, sleep\n",
    "import numpy as np\n",
    "import matplotlib.pyplot as plt\n",
    "from IPython import display"
   ]
  },
  {
   "cell_type": "code",
   "execution_count": 47,
   "metadata": {},
   "outputs": [],
   "source": [
    "import mnist\n",
    "X_train, y_train, X_val, y_val, X_test, y_test = mnist.load_dataset()  # your dataset"
   ]
  },
  {
   "cell_type": "markdown",
   "metadata": {},
   "source": [
    "One-hot encode the labels."
   ]
  },
  {
   "cell_type": "code",
   "execution_count": 48,
   "metadata": {},
   "outputs": [],
   "source": [
    "y_train_hot = np.eye(10)[y_train]\n",
    "y_val_hot = np.eye(10)[y_val]\n",
    "y_test_hot  = np.eye(10)[y_test]"
   ]
  },
  {
   "cell_type": "markdown",
   "metadata": {},
   "source": [
    "Our grayscale images consist of a single channel, so, we need to reshape our image data to be able to feed Conv2d layers with it."
   ]
  },
  {
   "cell_type": "code",
   "execution_count": 49,
   "metadata": {},
   "outputs": [],
   "source": [
    "X_train = X_train[:, None, :, :]\n",
    "X_val = X_val[:, None, :, :]\n",
    "X_test = X_test[:, None, :, :]"
   ]
  },
  {
   "cell_type": "code",
   "execution_count": 44,
   "metadata": {},
   "outputs": [
    {
     "data": {
      "image/png": "[encoded data removed]",
      "text/plain": [
       "<Figure size 576x432 with 1 Axes>"
      ]
     },
     "metadata": {
      "needs_background": "light"
     },
     "output_type": "display_data"
    },
    {
     "name": "stdout",
     "output_type": "stream",
     "text": [
      "Current epoch: 4.000000\n",
      "Current validation loss: 0.089049\n"
     ]
    }
   ],
   "source": [
    "# YOUR CODE\n",
    "\n",
    "net = Sequential()\n",
    "net.add(Conv2d(1, 8, 3)) # h_out = 28 \n",
    "net.add(MaxPool2d(2)) # h_out = 14\n",
    "net.add(ReLU())\n",
    "net.add(Conv2d(8, 16, 3)) # h_out = 14\n",
    "net.add(MaxPool2d(2)) # h_out = 7\n",
    "net.add(ReLU())\n",
    "net.add(Flatten()) # h_in = 7, w_in = 7, in_channels = 16 =>\n",
    "net.add(Linear(16*7*7, 300))\n",
    "net.add(Dropout())\n",
    "net.add(ReLU())\n",
    "net.add(Linear(300, 10))\n",
    "net.add(LogSoftMax())\n",
    "\n",
    "\n",
    "n_epoch = 5\n",
    "batch_size = 1000\n",
    "\n",
    "optimizer_config_adam = {'learning_rate' : 1e-3, 'epsilon':10e-8,\n",
    "                         'beta1': 0.9, 'beta2': 0.999 }\n",
    "optimizer_state = {}\n",
    "criterion = ClassNLLCriterion()\n",
    "\n",
    "loss_histories =[]\n",
    "loss_histories_val =[]\n",
    "\n",
    "for i in range(n_epoch):\n",
    "\n",
    "    loss_epoch = []\n",
    "    loss_epoch_val = []\n",
    "\n",
    "    net.train()\n",
    "    for x_batch, y_batch in get_batches((X_train, y_train_hot), batch_size):\n",
    "        print(1)\n",
    "        net.zeroGradParameters()\n",
    "\n",
    "        # Forward\n",
    "        predictions = net.forward(x_batch)\n",
    "        loss = criterion.forward(predictions, y_batch)\n",
    "        print(2)\n",
    "        # Backward\n",
    "        dp = criterion.backward(predictions, y_batch)\n",
    "        net.backward(x_batch, dp)\n",
    "        # Update weights\n",
    "        adam_optimizer(net.getParameters(), \n",
    "                       net.getGradParameters(), \n",
    "                       optimizer_config_adam,\n",
    "                       optimizer_state)\n",
    "        loss_epoch.append(loss)\n",
    "\n",
    "\n",
    "    net.evaluate()\n",
    "    for x_batch_val, y_batch_val in get_batches((X_val, y_val_hot), batch_size):\n",
    "        predictions = net.forward(x_batch_val)\n",
    "        loss = criterion.forward(predictions, y_batch_val)\n",
    "        loss_epoch_val.append(loss)\n",
    "\n",
    "    loss_histories.append(np.mean(loss_epoch))\n",
    "    loss_histories_val.append(np.mean(loss_epoch_val))\n",
    "    \n",
    "    # Visualize\n",
    "    display.clear_output(wait=True)\n",
    "    plt.figure(figsize=(8, 6))\n",
    "    plt.plot(loss_histories, label='Train')\n",
    "    plt.plot(loss_histories_val, label='Validation')\n",
    "        \n",
    "    plt.title(\"Loss\")\n",
    "    plt.xlabel(\"#iteration\")\n",
    "    plt.ylabel(\"loss\")\n",
    "    plt.yscale('log')\n",
    "    plt.legend() \n",
    "\n",
    "    plt.show()\n",
    "    print('Current epoch: %f' % (i + 1)) \n",
    "    print('Current validation loss: %f' % loss_histories_val[-1]) "
   ]
  },
  {
   "cell_type": "code",
   "execution_count": 45,
   "metadata": {},
   "outputs": [
    {
     "name": "stdout",
     "output_type": "stream",
     "text": [
      "Test accuracy: 97.18 %\n"
     ]
    }
   ],
   "source": [
    "from sklearn.metrics import accuracy_score\n",
    "\n",
    "y_test_vals = []\n",
    "y_test_predictions = []\n",
    "for x_batch_test, y_batch_test in get_batches((X_test, y_test_hot), batch_size):\n",
    "    predictions = net.forward(x_batch_test)\n",
    "    y_test_predictions = y_test_predictions + list(predictions.argmax(axis=1))\n",
    "    y_test_vals = y_test_vals + list(y_batch_test.argmax(axis=1))\n",
    "    \n",
    "print(f'Test accuracy: {accuracy_score(y_test_vals, y_test_predictions) * 100} %')"
   ]
  },
  {
   "cell_type": "markdown",
   "metadata": {},
   "source": [
    "Final test accuracy for 5 epochs: 97.18%. \n",
    "\n",
    "And as we can see from val/train loss plot, there is still a room for increasing a number of epochs without overfitting. "
   ]
  },
  {
   "cell_type": "markdown",
   "metadata": {},
   "source": [
    "### Reward\n",
    "\n",
    "Once done with the homework, check out [this link](https://www.cs.ryerson.ca/~aharley/vis/conv/) with some beautiful 3D visualization of what convnets really learn on MNIST :)\n",
    "\n",
    "You can also see [here](https://www.cs.ryerson.ca/~aharley/vis/fc/) that fully-connected networks are not so interpretable. "
   ]
  }
 ],
 "metadata": {
  "kernelspec": {
   "display_name": "Python 3",
   "language": "python",
   "name": "python3"
  },
  "language_info": {
   "codemirror_mode": {
    "name": "ipython",
    "version": 3
   },
   "file_extension": ".py",
   "mimetype": "text/x-python",
   "name": "python",
   "nbconvert_exporter": "python",
   "pygments_lexer": "ipython3",
   "version": "3.8.3"
  }
 },
 "nbformat": 4,
 "nbformat_minor": 4
}
